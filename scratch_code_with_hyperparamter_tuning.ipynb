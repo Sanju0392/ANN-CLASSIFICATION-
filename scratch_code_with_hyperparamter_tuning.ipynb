{
  "metadata": {
    "kernelspec": {
      "language": "python",
      "display_name": "Python 3",
      "name": "python3"
    },
    "language_info": {
      "name": "python",
      "version": "3.7.12",
      "mimetype": "text/x-python",
      "codemirror_mode": {
        "name": "ipython",
        "version": 3
      },
      "pygments_lexer": "ipython3",
      "nbconvert_exporter": "python",
      "file_extension": ".py"
    },
    "colab": {
      "provenance": [],
      "include_colab_link": true
    }
  },
  "nbformat_minor": 0,
  "nbformat": 4,
  "cells": [
    {
      "cell_type": "markdown",
      "metadata": {
        "id": "view-in-github",
        "colab_type": "text"
      },
      "source": [
        "<a href=\"https://colab.research.google.com/github/Sanju0392/ANN-CLASSIFICATION-/blob/main/scratch_code_with_hyperparamter_tuning.ipynb\" target=\"_parent\"><img src=\"https://colab.research.google.com/assets/colab-badge.svg\" alt=\"Open In Colab\"/></a>"
      ]
    },
    {
      "cell_type": "markdown",
      "source": [
        "**/kaggle/input/mortgage-based-predictions/LoanExport.csv**"
      ],
      "metadata": {
        "id": "WrLDyGztL0Ul"
      }
    },
    {
      "cell_type": "code",
      "source": [
        "# This Python 3 environment comes with many helpful analytics libraries installed\n",
        "# It is defined by the kaggle/python Docker image: https://github.com/kaggle/docker-python\n",
        "# For example, here's several helpful packages to load\n",
        "\n",
        "import numpy as np # linear algebra\n",
        "import pandas as pd # data processing, CSV file I/O (e.g. pd.read_csv)\n",
        "\n",
        "# Input data files are available in the read-only \"../input/\" directory\n",
        "# For example, running this (by clicking run or pressing Shift+Enter) will list all files under the input directory\n",
        "\n",
        "import os\n",
        "for dirname, _, filenames in os.walk('/kaggle/input'):\n",
        "    for filename in filenames:\n",
        "        print(os.path.join(dirname, filename))\n",
        "\n",
        "# You can write up to 20GB to the current directory (/kaggle/working/) that gets preserved as output when you create a version using \"Save & Run All\" \n",
        "# You can also write temporary files to /kaggle/temp/, but they won't be saved outside of the current session"
      ],
      "metadata": {
        "_uuid": "8f2839f25d086af736a60e9eeb907d3b93b6e0e5",
        "_cell_guid": "b1076dfc-b9ad-4769-8c92-a6c4dae69d19",
        "execution": {
          "iopub.status.busy": "2023-02-26T04:18:32.704711Z",
          "iopub.execute_input": "2023-02-26T04:18:32.705178Z",
          "iopub.status.idle": "2023-02-26T04:18:32.746526Z",
          "shell.execute_reply.started": "2023-02-26T04:18:32.705088Z",
          "shell.execute_reply": "2023-02-26T04:18:32.745218Z"
        },
        "trusted": true,
        "id": "tE4VsD9mL0Uo"
      },
      "execution_count": null,
      "outputs": []
    },
    {
      "cell_type": "markdown",
      "source": [
        "AIM:-To predict the mortgage backed securities prepayment risk using ml models Mortgage backed securities:- Firstly mortgage means people take loan from banks and banks issue them loans on thier credit profile,investments and certain proofs and they give those docs when loan tenure is finished.So these security papers are collected in a set and are sold to invesment banks and they are locked.now the investors gets profit from the intrests they pay.so if a customer pre pays the ammount investor might lose some profit.so we have to predict whether a customer will prepay or not."
      ],
      "metadata": {
        "id": "Bs2y8YkbL0Up"
      }
    },
    {
      "cell_type": "markdown",
      "source": [
        "CreditScore:-\n",
        "FirstPaymentDate:-\n",
        "FirstTimeHomebuyer:- \n",
        "MaturityDate:- \n",
        "MSA(marketing service agremment)-5digit MIP-\n",
        "mortgage insurance percentage\n",
        "Units \n",
        "Occupancy \n",
        "OCLTV-ratio of all secured loans on a property to the total value of property\n",
        "DTI-debit to income ratio \n",
        "OrigUPB-orginal unpaid balance LTV \n",
        "OrigInterestRate Channel \n",
        "PPM-prepayment penalty mortgage \n",
        "ProductType \n",
        "PropertyState \n",
        "PropertyType \n",
        "PostalCode \n",
        "LoanSeqNum \n",
        "LoanPurpose \n",
        "OrigLoanTerm \n",
        "NumBorrowers \n",
        "SellerName \n",
        "ServicerName \n",
        "EverDelinquent \n",
        "MonthsDelinquent \n",
        "MonthsInRepayment"
      ],
      "metadata": {
        "id": "vtsEU4xHL0Up"
      }
    },
    {
      "cell_type": "markdown",
      "source": [
        "importing required libraries"
      ],
      "metadata": {
        "id": "dcABiGzsL0Uq"
      }
    },
    {
      "cell_type": "code",
      "source": [
        "#Import the required Libraries.\n",
        "import warnings\n",
        "warnings.filterwarnings(\"ignore\")\n",
        "\n",
        "import pandas as pd\n",
        "import numpy as np\n",
        "import matplotlib.pyplot as plt,seaborn as sns\n",
        "import math\n",
        "\n",
        "get_ipython().run_line_magic('matplotlib', 'inline')\n",
        "pd.set_option('display.max_columns',125)\n",
        "pd.set_option('display.max_rows',125)"
      ],
      "metadata": {
        "execution": {
          "iopub.status.busy": "2023-02-26T04:18:32.749128Z",
          "iopub.execute_input": "2023-02-26T04:18:32.749712Z",
          "iopub.status.idle": "2023-02-26T04:18:33.872621Z",
          "shell.execute_reply.started": "2023-02-26T04:18:32.749670Z",
          "shell.execute_reply": "2023-02-26T04:18:33.871573Z"
        },
        "trusted": true,
        "id": "7b4XdoMhL0Uq"
      },
      "execution_count": null,
      "outputs": []
    },
    {
      "cell_type": "markdown",
      "source": [
        "1. Reading the Input Data from File****"
      ],
      "metadata": {
        "id": "s-5KssqcL0Uq"
      }
    },
    {
      "cell_type": "code",
      "source": [
        "df_train=pd.read_csv(\"/content/LoanExport.csv\",low_memory=False)\n",
        "df_train.head()"
      ],
      "metadata": {
        "execution": {
          "iopub.status.busy": "2023-02-26T04:18:33.875134Z",
          "iopub.execute_input": "2023-02-26T04:18:33.875928Z",
          "iopub.status.idle": "2023-02-26T04:18:36.053099Z",
          "shell.execute_reply.started": "2023-02-26T04:18:33.875867Z",
          "shell.execute_reply": "2023-02-26T04:18:36.051184Z"
        },
        "trusted": true,
        "id": "gnoa_5LsL0Ur",
        "outputId": "ede33f97-0f25-444d-e48c-498b3600466e",
        "colab": {
          "base_uri": "https://localhost:8080/",
          "height": 270
        }
      },
      "execution_count": null,
      "outputs": [
        {
          "output_type": "execute_result",
          "data": {
            "text/plain": [
              "   CreditScore  FirstPaymentDate FirstTimeHomebuyer  MaturityDate    MSA  MIP  \\\n",
              "0            0            199902                  N        202901  16974   25   \n",
              "1            0            199902                  N        202901  19740    0   \n",
              "2            0            199902                  N        202901  29940    0   \n",
              "3            0            199902                  N        202901  31084    0   \n",
              "4            0            199902                  N        202901  35644    0   \n",
              "\n",
              "   Units Occupancy  OCLTV  DTI  OrigUPB  LTV  OrigInterestRate Channel PPM  \\\n",
              "0      1         O     89   27   117000   89             6.750       T   N   \n",
              "1      1         O     73   17   109000   73             6.500       R   N   \n",
              "2      1         O     75   16    88000   75             6.875       T   N   \n",
              "3      1         O     76   14   160000   76             6.875       R   N   \n",
              "4      1         O     78   18   109000   78             7.125       R   N   \n",
              "\n",
              "  ProductType PropertyState PropertyType PostalCode    LoanSeqNum LoanPurpose  \\\n",
              "0       FRM              IL           SF      60400  F199Q1268030           P   \n",
              "1       FRM              CO           SF      80200  F199Q1015092           N   \n",
              "2       FRM              KS           SF      66000  F199Q1266886           N   \n",
              "3       FRM              CA           SF      90700  F199Q1178167           N   \n",
              "4       FRM              NJ           SF       7600  F199Q1178517           N   \n",
              "\n",
              "   OrigLoanTerm NumBorrowers SellerName          ServicerName  EverDelinquent  \\\n",
              "0           360            2         FL  WASHINGTONMUTUALBANK               0   \n",
              "1           360            1         FT  CHASEHOMEFINANCELLC                0   \n",
              "2           360            2         FL  WASHINGTONMUTUALBANK               0   \n",
              "3           360            2         GM  GMACMTGECORP                       0   \n",
              "4           360            2         GM  GMACMTGECORP                       0   \n",
              "\n",
              "   MonthsDelinquent  MonthsInRepayment  \n",
              "0                 0                 52  \n",
              "1                 0                144  \n",
              "2                 0                 67  \n",
              "3                 0                 35  \n",
              "4                 0                 54  "
            ],
            "text/html": [
              "\n",
              "  <div id=\"df-353be714-2fa5-4f01-a9b1-369500972e70\">\n",
              "    <div class=\"colab-df-container\">\n",
              "      <div>\n",
              "<style scoped>\n",
              "    .dataframe tbody tr th:only-of-type {\n",
              "        vertical-align: middle;\n",
              "    }\n",
              "\n",
              "    .dataframe tbody tr th {\n",
              "        vertical-align: top;\n",
              "    }\n",
              "\n",
              "    .dataframe thead th {\n",
              "        text-align: right;\n",
              "    }\n",
              "</style>\n",
              "<table border=\"1\" class=\"dataframe\">\n",
              "  <thead>\n",
              "    <tr style=\"text-align: right;\">\n",
              "      <th></th>\n",
              "      <th>CreditScore</th>\n",
              "      <th>FirstPaymentDate</th>\n",
              "      <th>FirstTimeHomebuyer</th>\n",
              "      <th>MaturityDate</th>\n",
              "      <th>MSA</th>\n",
              "      <th>MIP</th>\n",
              "      <th>Units</th>\n",
              "      <th>Occupancy</th>\n",
              "      <th>OCLTV</th>\n",
              "      <th>DTI</th>\n",
              "      <th>OrigUPB</th>\n",
              "      <th>LTV</th>\n",
              "      <th>OrigInterestRate</th>\n",
              "      <th>Channel</th>\n",
              "      <th>PPM</th>\n",
              "      <th>ProductType</th>\n",
              "      <th>PropertyState</th>\n",
              "      <th>PropertyType</th>\n",
              "      <th>PostalCode</th>\n",
              "      <th>LoanSeqNum</th>\n",
              "      <th>LoanPurpose</th>\n",
              "      <th>OrigLoanTerm</th>\n",
              "      <th>NumBorrowers</th>\n",
              "      <th>SellerName</th>\n",
              "      <th>ServicerName</th>\n",
              "      <th>EverDelinquent</th>\n",
              "      <th>MonthsDelinquent</th>\n",
              "      <th>MonthsInRepayment</th>\n",
              "    </tr>\n",
              "  </thead>\n",
              "  <tbody>\n",
              "    <tr>\n",
              "      <th>0</th>\n",
              "      <td>0</td>\n",
              "      <td>199902</td>\n",
              "      <td>N</td>\n",
              "      <td>202901</td>\n",
              "      <td>16974</td>\n",
              "      <td>25</td>\n",
              "      <td>1</td>\n",
              "      <td>O</td>\n",
              "      <td>89</td>\n",
              "      <td>27</td>\n",
              "      <td>117000</td>\n",
              "      <td>89</td>\n",
              "      <td>6.750</td>\n",
              "      <td>T</td>\n",
              "      <td>N</td>\n",
              "      <td>FRM</td>\n",
              "      <td>IL</td>\n",
              "      <td>SF</td>\n",
              "      <td>60400</td>\n",
              "      <td>F199Q1268030</td>\n",
              "      <td>P</td>\n",
              "      <td>360</td>\n",
              "      <td>2</td>\n",
              "      <td>FL</td>\n",
              "      <td>WASHINGTONMUTUALBANK</td>\n",
              "      <td>0</td>\n",
              "      <td>0</td>\n",
              "      <td>52</td>\n",
              "    </tr>\n",
              "    <tr>\n",
              "      <th>1</th>\n",
              "      <td>0</td>\n",
              "      <td>199902</td>\n",
              "      <td>N</td>\n",
              "      <td>202901</td>\n",
              "      <td>19740</td>\n",
              "      <td>0</td>\n",
              "      <td>1</td>\n",
              "      <td>O</td>\n",
              "      <td>73</td>\n",
              "      <td>17</td>\n",
              "      <td>109000</td>\n",
              "      <td>73</td>\n",
              "      <td>6.500</td>\n",
              "      <td>R</td>\n",
              "      <td>N</td>\n",
              "      <td>FRM</td>\n",
              "      <td>CO</td>\n",
              "      <td>SF</td>\n",
              "      <td>80200</td>\n",
              "      <td>F199Q1015092</td>\n",
              "      <td>N</td>\n",
              "      <td>360</td>\n",
              "      <td>1</td>\n",
              "      <td>FT</td>\n",
              "      <td>CHASEHOMEFINANCELLC</td>\n",
              "      <td>0</td>\n",
              "      <td>0</td>\n",
              "      <td>144</td>\n",
              "    </tr>\n",
              "    <tr>\n",
              "      <th>2</th>\n",
              "      <td>0</td>\n",
              "      <td>199902</td>\n",
              "      <td>N</td>\n",
              "      <td>202901</td>\n",
              "      <td>29940</td>\n",
              "      <td>0</td>\n",
              "      <td>1</td>\n",
              "      <td>O</td>\n",
              "      <td>75</td>\n",
              "      <td>16</td>\n",
              "      <td>88000</td>\n",
              "      <td>75</td>\n",
              "      <td>6.875</td>\n",
              "      <td>T</td>\n",
              "      <td>N</td>\n",
              "      <td>FRM</td>\n",
              "      <td>KS</td>\n",
              "      <td>SF</td>\n",
              "      <td>66000</td>\n",
              "      <td>F199Q1266886</td>\n",
              "      <td>N</td>\n",
              "      <td>360</td>\n",
              "      <td>2</td>\n",
              "      <td>FL</td>\n",
              "      <td>WASHINGTONMUTUALBANK</td>\n",
              "      <td>0</td>\n",
              "      <td>0</td>\n",
              "      <td>67</td>\n",
              "    </tr>\n",
              "    <tr>\n",
              "      <th>3</th>\n",
              "      <td>0</td>\n",
              "      <td>199902</td>\n",
              "      <td>N</td>\n",
              "      <td>202901</td>\n",
              "      <td>31084</td>\n",
              "      <td>0</td>\n",
              "      <td>1</td>\n",
              "      <td>O</td>\n",
              "      <td>76</td>\n",
              "      <td>14</td>\n",
              "      <td>160000</td>\n",
              "      <td>76</td>\n",
              "      <td>6.875</td>\n",
              "      <td>R</td>\n",
              "      <td>N</td>\n",
              "      <td>FRM</td>\n",
              "      <td>CA</td>\n",
              "      <td>SF</td>\n",
              "      <td>90700</td>\n",
              "      <td>F199Q1178167</td>\n",
              "      <td>N</td>\n",
              "      <td>360</td>\n",
              "      <td>2</td>\n",
              "      <td>GM</td>\n",
              "      <td>GMACMTGECORP</td>\n",
              "      <td>0</td>\n",
              "      <td>0</td>\n",
              "      <td>35</td>\n",
              "    </tr>\n",
              "    <tr>\n",
              "      <th>4</th>\n",
              "      <td>0</td>\n",
              "      <td>199902</td>\n",
              "      <td>N</td>\n",
              "      <td>202901</td>\n",
              "      <td>35644</td>\n",
              "      <td>0</td>\n",
              "      <td>1</td>\n",
              "      <td>O</td>\n",
              "      <td>78</td>\n",
              "      <td>18</td>\n",
              "      <td>109000</td>\n",
              "      <td>78</td>\n",
              "      <td>7.125</td>\n",
              "      <td>R</td>\n",
              "      <td>N</td>\n",
              "      <td>FRM</td>\n",
              "      <td>NJ</td>\n",
              "      <td>SF</td>\n",
              "      <td>7600</td>\n",
              "      <td>F199Q1178517</td>\n",
              "      <td>N</td>\n",
              "      <td>360</td>\n",
              "      <td>2</td>\n",
              "      <td>GM</td>\n",
              "      <td>GMACMTGECORP</td>\n",
              "      <td>0</td>\n",
              "      <td>0</td>\n",
              "      <td>54</td>\n",
              "    </tr>\n",
              "  </tbody>\n",
              "</table>\n",
              "</div>\n",
              "      <button class=\"colab-df-convert\" onclick=\"convertToInteractive('df-353be714-2fa5-4f01-a9b1-369500972e70')\"\n",
              "              title=\"Convert this dataframe to an interactive table.\"\n",
              "              style=\"display:none;\">\n",
              "        \n",
              "  <svg xmlns=\"http://www.w3.org/2000/svg\" height=\"24px\"viewBox=\"0 0 24 24\"\n",
              "       width=\"24px\">\n",
              "    <path d=\"M0 0h24v24H0V0z\" fill=\"none\"/>\n",
              "    <path d=\"M18.56 5.44l.94 2.06.94-2.06 2.06-.94-2.06-.94-.94-2.06-.94 2.06-2.06.94zm-11 1L8.5 8.5l.94-2.06 2.06-.94-2.06-.94L8.5 2.5l-.94 2.06-2.06.94zm10 10l.94 2.06.94-2.06 2.06-.94-2.06-.94-.94-2.06-.94 2.06-2.06.94z\"/><path d=\"M17.41 7.96l-1.37-1.37c-.4-.4-.92-.59-1.43-.59-.52 0-1.04.2-1.43.59L10.3 9.45l-7.72 7.72c-.78.78-.78 2.05 0 2.83L4 21.41c.39.39.9.59 1.41.59.51 0 1.02-.2 1.41-.59l7.78-7.78 2.81-2.81c.8-.78.8-2.07 0-2.86zM5.41 20L4 18.59l7.72-7.72 1.47 1.35L5.41 20z\"/>\n",
              "  </svg>\n",
              "      </button>\n",
              "      \n",
              "  <style>\n",
              "    .colab-df-container {\n",
              "      display:flex;\n",
              "      flex-wrap:wrap;\n",
              "      gap: 12px;\n",
              "    }\n",
              "\n",
              "    .colab-df-convert {\n",
              "      background-color: #E8F0FE;\n",
              "      border: none;\n",
              "      border-radius: 50%;\n",
              "      cursor: pointer;\n",
              "      display: none;\n",
              "      fill: #1967D2;\n",
              "      height: 32px;\n",
              "      padding: 0 0 0 0;\n",
              "      width: 32px;\n",
              "    }\n",
              "\n",
              "    .colab-df-convert:hover {\n",
              "      background-color: #E2EBFA;\n",
              "      box-shadow: 0px 1px 2px rgba(60, 64, 67, 0.3), 0px 1px 3px 1px rgba(60, 64, 67, 0.15);\n",
              "      fill: #174EA6;\n",
              "    }\n",
              "\n",
              "    [theme=dark] .colab-df-convert {\n",
              "      background-color: #3B4455;\n",
              "      fill: #D2E3FC;\n",
              "    }\n",
              "\n",
              "    [theme=dark] .colab-df-convert:hover {\n",
              "      background-color: #434B5C;\n",
              "      box-shadow: 0px 1px 3px 1px rgba(0, 0, 0, 0.15);\n",
              "      filter: drop-shadow(0px 1px 2px rgba(0, 0, 0, 0.3));\n",
              "      fill: #FFFFFF;\n",
              "    }\n",
              "  </style>\n",
              "\n",
              "      <script>\n",
              "        const buttonEl =\n",
              "          document.querySelector('#df-353be714-2fa5-4f01-a9b1-369500972e70 button.colab-df-convert');\n",
              "        buttonEl.style.display =\n",
              "          google.colab.kernel.accessAllowed ? 'block' : 'none';\n",
              "\n",
              "        async function convertToInteractive(key) {\n",
              "          const element = document.querySelector('#df-353be714-2fa5-4f01-a9b1-369500972e70');\n",
              "          const dataTable =\n",
              "            await google.colab.kernel.invokeFunction('convertToInteractive',\n",
              "                                                     [key], {});\n",
              "          if (!dataTable) return;\n",
              "\n",
              "          const docLinkHtml = 'Like what you see? Visit the ' +\n",
              "            '<a target=\"_blank\" href=https://colab.research.google.com/notebooks/data_table.ipynb>data table notebook</a>'\n",
              "            + ' to learn more about interactive tables.';\n",
              "          element.innerHTML = '';\n",
              "          dataTable['output_type'] = 'display_data';\n",
              "          await google.colab.output.renderOutput(dataTable, element);\n",
              "          const docLink = document.createElement('div');\n",
              "          docLink.innerHTML = docLinkHtml;\n",
              "          element.appendChild(docLink);\n",
              "        }\n",
              "      </script>\n",
              "    </div>\n",
              "  </div>\n",
              "  "
            ]
          },
          "metadata": {},
          "execution_count": 4
        }
      ]
    },
    {
      "cell_type": "markdown",
      "source": [
        "2. Understanding structure of the Data"
      ],
      "metadata": {
        "id": "NF8M3vSQL0Ur"
      }
    },
    {
      "cell_type": "code",
      "source": [
        "# Getting the Dataframe dimensions\n",
        "df_train.shape"
      ],
      "metadata": {
        "execution": {
          "iopub.status.busy": "2023-02-26T04:18:36.054960Z",
          "iopub.execute_input": "2023-02-26T04:18:36.055488Z",
          "iopub.status.idle": "2023-02-26T04:18:36.065831Z",
          "shell.execute_reply.started": "2023-02-26T04:18:36.055421Z",
          "shell.execute_reply": "2023-02-26T04:18:36.064262Z"
        },
        "trusted": true,
        "id": "n2U_aNprL0Us",
        "outputId": "80de3c3f-2ee5-4b12-9a84-1c7d73fb7686",
        "colab": {
          "base_uri": "https://localhost:8080/"
        }
      },
      "execution_count": null,
      "outputs": [
        {
          "output_type": "execute_result",
          "data": {
            "text/plain": [
              "(291451, 28)"
            ]
          },
          "metadata": {},
          "execution_count": 5
        }
      ]
    },
    {
      "cell_type": "code",
      "source": [
        "# Getting the columns information\n",
        "df_train.dtypes"
      ],
      "metadata": {
        "execution": {
          "iopub.status.busy": "2023-02-26T04:18:36.069260Z",
          "iopub.execute_input": "2023-02-26T04:18:36.070936Z",
          "iopub.status.idle": "2023-02-26T04:18:36.085428Z",
          "shell.execute_reply.started": "2023-02-26T04:18:36.070871Z",
          "shell.execute_reply": "2023-02-26T04:18:36.083703Z"
        },
        "trusted": true,
        "id": "YkY2lnVnL0Us",
        "outputId": "d947c715-e607-4ef6-b6a2-792cc42e41bf",
        "colab": {
          "base_uri": "https://localhost:8080/"
        }
      },
      "execution_count": null,
      "outputs": [
        {
          "output_type": "execute_result",
          "data": {
            "text/plain": [
              "CreditScore             int64\n",
              "FirstPaymentDate        int64\n",
              "FirstTimeHomebuyer     object\n",
              "MaturityDate            int64\n",
              "MSA                    object\n",
              "MIP                     int64\n",
              "Units                   int64\n",
              "Occupancy              object\n",
              "OCLTV                   int64\n",
              "DTI                     int64\n",
              "OrigUPB                 int64\n",
              "LTV                     int64\n",
              "OrigInterestRate      float64\n",
              "Channel                object\n",
              "PPM                    object\n",
              "ProductType            object\n",
              "PropertyState          object\n",
              "PropertyType           object\n",
              "PostalCode             object\n",
              "LoanSeqNum             object\n",
              "LoanPurpose            object\n",
              "OrigLoanTerm            int64\n",
              "NumBorrowers           object\n",
              "SellerName             object\n",
              "ServicerName           object\n",
              "EverDelinquent          int64\n",
              "MonthsDelinquent        int64\n",
              "MonthsInRepayment       int64\n",
              "dtype: object"
            ]
          },
          "metadata": {},
          "execution_count": 6
        }
      ]
    },
    {
      "cell_type": "code",
      "source": [
        " categoricalcolumns=[]\n",
        " numericalcolumns=[]\n",
        " for i in df_train.columns:\n",
        "   if df_train[i].dtypes==object:\n",
        "      categoricalcolumns.append(i)\n",
        "   else:\n",
        "      numericalcolumns.append(i)\n",
        "print(numericalcolumns) \n",
        "print(categoricalcolumns)"
      ],
      "metadata": {
        "execution": {
          "iopub.status.busy": "2023-02-26T04:18:36.087840Z",
          "iopub.execute_input": "2023-02-26T04:18:36.088546Z",
          "iopub.status.idle": "2023-02-26T04:18:36.114019Z",
          "shell.execute_reply.started": "2023-02-26T04:18:36.088471Z",
          "shell.execute_reply": "2023-02-26T04:18:36.112317Z"
        },
        "trusted": true,
        "id": "qPVJEDG8L0Us",
        "outputId": "63fe4130-7069-48d8-fb5a-a0a196cffec0",
        "colab": {
          "base_uri": "https://localhost:8080/"
        }
      },
      "execution_count": null,
      "outputs": [
        {
          "output_type": "stream",
          "name": "stdout",
          "text": [
            "['CreditScore', 'FirstPaymentDate', 'MaturityDate', 'MIP', 'Units', 'OCLTV', 'DTI', 'OrigUPB', 'LTV', 'OrigInterestRate', 'OrigLoanTerm', 'EverDelinquent', 'MonthsDelinquent', 'MonthsInRepayment']\n",
            "['FirstTimeHomebuyer', 'MSA', 'Occupancy', 'Channel', 'PPM', 'ProductType', 'PropertyState', 'PropertyType', 'PostalCode', 'LoanSeqNum', 'LoanPurpose', 'NumBorrowers', 'SellerName', 'ServicerName']\n"
          ]
        }
      ]
    },
    {
      "cell_type": "code",
      "source": [
        "for i in categoricalcolumns:\n",
        "  print(i,df_train[i].nunique())\n",
        "\n",
        "    \n"
      ],
      "metadata": {
        "execution": {
          "iopub.status.busy": "2023-02-26T04:18:36.115854Z",
          "iopub.execute_input": "2023-02-26T04:18:36.116890Z",
          "iopub.status.idle": "2023-02-26T04:18:36.536913Z",
          "shell.execute_reply.started": "2023-02-26T04:18:36.116818Z",
          "shell.execute_reply": "2023-02-26T04:18:36.534464Z"
        },
        "trusted": true,
        "id": "70k-lKuWL0Us",
        "outputId": "9f09a0f3-2132-438f-e95f-051b00358b88",
        "colab": {
          "base_uri": "https://localhost:8080/"
        }
      },
      "execution_count": null,
      "outputs": [
        {
          "output_type": "stream",
          "name": "stdout",
          "text": [
            "FirstTimeHomebuyer 3\n",
            "MSA 392\n",
            "Occupancy 3\n",
            "Channel 4\n",
            "PPM 3\n",
            "ProductType 1\n",
            "PropertyState 53\n",
            "PropertyType 7\n",
            "PostalCode 892\n",
            "LoanSeqNum 291451\n",
            "LoanPurpose 3\n",
            "NumBorrowers 3\n",
            "SellerName 20\n",
            "ServicerName 20\n"
          ]
        }
      ]
    },
    {
      "cell_type": "markdown",
      "source": [
        "#columns such as MSA,propertystate,postalcode,loanseqnum,sellername,servicename might not hold that much importance because of so many unique values present in them\n"
      ],
      "metadata": {
        "id": "jDidBl0VL0Ut"
      }
    },
    {
      "cell_type": "code",
      "source": [
        "#checking whether our column has proper dtype or not\n",
        "df_train[\"EverDelinquent\"].value_counts()"
      ],
      "metadata": {
        "execution": {
          "iopub.status.busy": "2023-02-26T04:18:36.538815Z",
          "iopub.execute_input": "2023-02-26T04:18:36.539875Z",
          "iopub.status.idle": "2023-02-26T04:18:36.553328Z",
          "shell.execute_reply.started": "2023-02-26T04:18:36.539836Z",
          "shell.execute_reply": "2023-02-26T04:18:36.552094Z"
        },
        "trusted": true,
        "id": "nLchZ_WmL0Ut",
        "outputId": "2bc34c43-f8da-4caa-9489-6e2ab9b5fe33",
        "colab": {
          "base_uri": "https://localhost:8080/"
        }
      },
      "execution_count": null,
      "outputs": [
        {
          "output_type": "execute_result",
          "data": {
            "text/plain": [
              "0    233788\n",
              "1     57663\n",
              "Name: EverDelinquent, dtype: int64"
            ]
          },
          "metadata": {},
          "execution_count": 9
        }
      ]
    },
    {
      "cell_type": "markdown",
      "source": [
        "if we see there are two classes present in it,so it is a categorical column"
      ],
      "metadata": {
        "id": "jCmyxAnSL0Ut"
      }
    },
    {
      "cell_type": "code",
      "source": [
        "df_train[\"EverDelinquent\"]=df_train[\"EverDelinquent\"].astype(\"str\")"
      ],
      "metadata": {
        "execution": {
          "iopub.status.busy": "2023-02-26T04:18:36.555268Z",
          "iopub.execute_input": "2023-02-26T04:18:36.555992Z",
          "iopub.status.idle": "2023-02-26T04:18:36.822479Z",
          "shell.execute_reply.started": "2023-02-26T04:18:36.555948Z",
          "shell.execute_reply": "2023-02-26T04:18:36.821036Z"
        },
        "trusted": true,
        "id": "YWaW2Pr7L0Ut"
      },
      "execution_count": null,
      "outputs": []
    },
    {
      "cell_type": "code",
      "source": [
        "# Basic Info of the Data Frame\n",
        "df_train.info()"
      ],
      "metadata": {
        "execution": {
          "iopub.status.busy": "2023-02-26T04:18:36.823902Z",
          "iopub.execute_input": "2023-02-26T04:18:36.824486Z",
          "iopub.status.idle": "2023-02-26T04:18:37.054765Z",
          "shell.execute_reply.started": "2023-02-26T04:18:36.824450Z",
          "shell.execute_reply": "2023-02-26T04:18:37.053715Z"
        },
        "trusted": true,
        "id": "SwaUKh4OL0Ut",
        "outputId": "5ab31dd5-3ba0-4a09-8735-0b99af73516e",
        "colab": {
          "base_uri": "https://localhost:8080/"
        }
      },
      "execution_count": null,
      "outputs": [
        {
          "output_type": "stream",
          "name": "stdout",
          "text": [
            "<class 'pandas.core.frame.DataFrame'>\n",
            "RangeIndex: 291451 entries, 0 to 291450\n",
            "Data columns (total 28 columns):\n",
            " #   Column              Non-Null Count   Dtype  \n",
            "---  ------              --------------   -----  \n",
            " 0   CreditScore         291451 non-null  int64  \n",
            " 1   FirstPaymentDate    291451 non-null  int64  \n",
            " 2   FirstTimeHomebuyer  291451 non-null  object \n",
            " 3   MaturityDate        291451 non-null  int64  \n",
            " 4   MSA                 291451 non-null  object \n",
            " 5   MIP                 291451 non-null  int64  \n",
            " 6   Units               291451 non-null  int64  \n",
            " 7   Occupancy           291451 non-null  object \n",
            " 8   OCLTV               291451 non-null  int64  \n",
            " 9   DTI                 291451 non-null  int64  \n",
            " 10  OrigUPB             291451 non-null  int64  \n",
            " 11  LTV                 291451 non-null  int64  \n",
            " 12  OrigInterestRate    291451 non-null  float64\n",
            " 13  Channel             291451 non-null  object \n",
            " 14  PPM                 291451 non-null  object \n",
            " 15  ProductType         291451 non-null  object \n",
            " 16  PropertyState       291451 non-null  object \n",
            " 17  PropertyType        291451 non-null  object \n",
            " 18  PostalCode          291451 non-null  object \n",
            " 19  LoanSeqNum          291451 non-null  object \n",
            " 20  LoanPurpose         291451 non-null  object \n",
            " 21  OrigLoanTerm        291451 non-null  int64  \n",
            " 22  NumBorrowers        291451 non-null  object \n",
            " 23  SellerName          266457 non-null  object \n",
            " 24  ServicerName        291451 non-null  object \n",
            " 25  EverDelinquent      291451 non-null  object \n",
            " 26  MonthsDelinquent    291451 non-null  int64  \n",
            " 27  MonthsInRepayment   291451 non-null  int64  \n",
            "dtypes: float64(1), int64(12), object(15)\n",
            "memory usage: 62.3+ MB\n"
          ]
        }
      ]
    },
    {
      "cell_type": "code",
      "source": [
        "# Getting basic statistical details of the data frame\n",
        "df_train.describe()"
      ],
      "metadata": {
        "execution": {
          "iopub.status.busy": "2023-02-26T04:18:37.059129Z",
          "iopub.execute_input": "2023-02-26T04:18:37.059991Z",
          "iopub.status.idle": "2023-02-26T04:18:37.453041Z",
          "shell.execute_reply.started": "2023-02-26T04:18:37.059935Z",
          "shell.execute_reply": "2023-02-26T04:18:37.451732Z"
        },
        "trusted": true,
        "id": "7ISnPy91L0Ut",
        "outputId": "5fdc9b3a-6a34-4b8c-e2f2-2d0094ec969c",
        "colab": {
          "base_uri": "https://localhost:8080/",
          "height": 364
        }
      },
      "execution_count": null,
      "outputs": [
        {
          "output_type": "execute_result",
          "data": {
            "text/plain": [
              "         CreditScore  FirstPaymentDate   MaturityDate            MIP  \\\n",
              "count  291451.000000     291451.000000  291451.000000  291451.000000   \n",
              "mean      708.936991     199904.760553  202902.367043       9.216685   \n",
              "std        68.408791         13.821228      16.090508      12.648273   \n",
              "min         0.000000     199901.000000  202402.000000       0.000000   \n",
              "25%       675.000000     199903.000000  202902.000000       0.000000   \n",
              "50%       717.000000     199904.000000  202903.000000       0.000000   \n",
              "75%       753.000000     199905.000000  202904.000000      25.000000   \n",
              "max       849.000000     201303.000000  204302.000000      55.000000   \n",
              "\n",
              "               Units          OCLTV            DTI        OrigUPB  \\\n",
              "count  291451.000000  291451.000000  291451.000000  291451.000000   \n",
              "mean        1.026022      76.960529      30.033453  124940.387921   \n",
              "std         0.202986      15.236154      13.203974   53657.440624   \n",
              "min         0.000000       0.000000       0.000000    8000.000000   \n",
              "25%         1.000000      70.000000      22.000000   83000.000000   \n",
              "50%         1.000000      80.000000      31.000000  117000.000000   \n",
              "75%         1.000000      90.000000      39.000000  160000.000000   \n",
              "max         4.000000     110.000000      65.000000  497000.000000   \n",
              "\n",
              "                 LTV  OrigInterestRate   OrigLoanTerm  MonthsDelinquent  \\\n",
              "count  291451.000000     291451.000000  291451.000000     291451.000000   \n",
              "mean       76.937986          6.926547     359.835375          1.837729   \n",
              "std        15.225298          0.343541       2.286939          8.809392   \n",
              "min         0.000000          4.000000     301.000000          0.000000   \n",
              "25%        70.000000          6.750000     360.000000          0.000000   \n",
              "50%        80.000000          6.875000     360.000000          0.000000   \n",
              "75%        90.000000          7.125000     360.000000          0.000000   \n",
              "max       103.000000         12.350000     361.000000        180.000000   \n",
              "\n",
              "       MonthsInRepayment  \n",
              "count      291451.000000  \n",
              "mean           60.805291  \n",
              "std            46.142599  \n",
              "min             1.000000  \n",
              "25%            34.000000  \n",
              "50%            48.000000  \n",
              "75%            63.000000  \n",
              "max           212.000000  "
            ],
            "text/html": [
              "\n",
              "  <div id=\"df-d402fc68-458a-47c2-a062-45bbe1ca1dfe\">\n",
              "    <div class=\"colab-df-container\">\n",
              "      <div>\n",
              "<style scoped>\n",
              "    .dataframe tbody tr th:only-of-type {\n",
              "        vertical-align: middle;\n",
              "    }\n",
              "\n",
              "    .dataframe tbody tr th {\n",
              "        vertical-align: top;\n",
              "    }\n",
              "\n",
              "    .dataframe thead th {\n",
              "        text-align: right;\n",
              "    }\n",
              "</style>\n",
              "<table border=\"1\" class=\"dataframe\">\n",
              "  <thead>\n",
              "    <tr style=\"text-align: right;\">\n",
              "      <th></th>\n",
              "      <th>CreditScore</th>\n",
              "      <th>FirstPaymentDate</th>\n",
              "      <th>MaturityDate</th>\n",
              "      <th>MIP</th>\n",
              "      <th>Units</th>\n",
              "      <th>OCLTV</th>\n",
              "      <th>DTI</th>\n",
              "      <th>OrigUPB</th>\n",
              "      <th>LTV</th>\n",
              "      <th>OrigInterestRate</th>\n",
              "      <th>OrigLoanTerm</th>\n",
              "      <th>MonthsDelinquent</th>\n",
              "      <th>MonthsInRepayment</th>\n",
              "    </tr>\n",
              "  </thead>\n",
              "  <tbody>\n",
              "    <tr>\n",
              "      <th>count</th>\n",
              "      <td>291451.000000</td>\n",
              "      <td>291451.000000</td>\n",
              "      <td>291451.000000</td>\n",
              "      <td>291451.000000</td>\n",
              "      <td>291451.000000</td>\n",
              "      <td>291451.000000</td>\n",
              "      <td>291451.000000</td>\n",
              "      <td>291451.000000</td>\n",
              "      <td>291451.000000</td>\n",
              "      <td>291451.000000</td>\n",
              "      <td>291451.000000</td>\n",
              "      <td>291451.000000</td>\n",
              "      <td>291451.000000</td>\n",
              "    </tr>\n",
              "    <tr>\n",
              "      <th>mean</th>\n",
              "      <td>708.936991</td>\n",
              "      <td>199904.760553</td>\n",
              "      <td>202902.367043</td>\n",
              "      <td>9.216685</td>\n",
              "      <td>1.026022</td>\n",
              "      <td>76.960529</td>\n",
              "      <td>30.033453</td>\n",
              "      <td>124940.387921</td>\n",
              "      <td>76.937986</td>\n",
              "      <td>6.926547</td>\n",
              "      <td>359.835375</td>\n",
              "      <td>1.837729</td>\n",
              "      <td>60.805291</td>\n",
              "    </tr>\n",
              "    <tr>\n",
              "      <th>std</th>\n",
              "      <td>68.408791</td>\n",
              "      <td>13.821228</td>\n",
              "      <td>16.090508</td>\n",
              "      <td>12.648273</td>\n",
              "      <td>0.202986</td>\n",
              "      <td>15.236154</td>\n",
              "      <td>13.203974</td>\n",
              "      <td>53657.440624</td>\n",
              "      <td>15.225298</td>\n",
              "      <td>0.343541</td>\n",
              "      <td>2.286939</td>\n",
              "      <td>8.809392</td>\n",
              "      <td>46.142599</td>\n",
              "    </tr>\n",
              "    <tr>\n",
              "      <th>min</th>\n",
              "      <td>0.000000</td>\n",
              "      <td>199901.000000</td>\n",
              "      <td>202402.000000</td>\n",
              "      <td>0.000000</td>\n",
              "      <td>0.000000</td>\n",
              "      <td>0.000000</td>\n",
              "      <td>0.000000</td>\n",
              "      <td>8000.000000</td>\n",
              "      <td>0.000000</td>\n",
              "      <td>4.000000</td>\n",
              "      <td>301.000000</td>\n",
              "      <td>0.000000</td>\n",
              "      <td>1.000000</td>\n",
              "    </tr>\n",
              "    <tr>\n",
              "      <th>25%</th>\n",
              "      <td>675.000000</td>\n",
              "      <td>199903.000000</td>\n",
              "      <td>202902.000000</td>\n",
              "      <td>0.000000</td>\n",
              "      <td>1.000000</td>\n",
              "      <td>70.000000</td>\n",
              "      <td>22.000000</td>\n",
              "      <td>83000.000000</td>\n",
              "      <td>70.000000</td>\n",
              "      <td>6.750000</td>\n",
              "      <td>360.000000</td>\n",
              "      <td>0.000000</td>\n",
              "      <td>34.000000</td>\n",
              "    </tr>\n",
              "    <tr>\n",
              "      <th>50%</th>\n",
              "      <td>717.000000</td>\n",
              "      <td>199904.000000</td>\n",
              "      <td>202903.000000</td>\n",
              "      <td>0.000000</td>\n",
              "      <td>1.000000</td>\n",
              "      <td>80.000000</td>\n",
              "      <td>31.000000</td>\n",
              "      <td>117000.000000</td>\n",
              "      <td>80.000000</td>\n",
              "      <td>6.875000</td>\n",
              "      <td>360.000000</td>\n",
              "      <td>0.000000</td>\n",
              "      <td>48.000000</td>\n",
              "    </tr>\n",
              "    <tr>\n",
              "      <th>75%</th>\n",
              "      <td>753.000000</td>\n",
              "      <td>199905.000000</td>\n",
              "      <td>202904.000000</td>\n",
              "      <td>25.000000</td>\n",
              "      <td>1.000000</td>\n",
              "      <td>90.000000</td>\n",
              "      <td>39.000000</td>\n",
              "      <td>160000.000000</td>\n",
              "      <td>90.000000</td>\n",
              "      <td>7.125000</td>\n",
              "      <td>360.000000</td>\n",
              "      <td>0.000000</td>\n",
              "      <td>63.000000</td>\n",
              "    </tr>\n",
              "    <tr>\n",
              "      <th>max</th>\n",
              "      <td>849.000000</td>\n",
              "      <td>201303.000000</td>\n",
              "      <td>204302.000000</td>\n",
              "      <td>55.000000</td>\n",
              "      <td>4.000000</td>\n",
              "      <td>110.000000</td>\n",
              "      <td>65.000000</td>\n",
              "      <td>497000.000000</td>\n",
              "      <td>103.000000</td>\n",
              "      <td>12.350000</td>\n",
              "      <td>361.000000</td>\n",
              "      <td>180.000000</td>\n",
              "      <td>212.000000</td>\n",
              "    </tr>\n",
              "  </tbody>\n",
              "</table>\n",
              "</div>\n",
              "      <button class=\"colab-df-convert\" onclick=\"convertToInteractive('df-d402fc68-458a-47c2-a062-45bbe1ca1dfe')\"\n",
              "              title=\"Convert this dataframe to an interactive table.\"\n",
              "              style=\"display:none;\">\n",
              "        \n",
              "  <svg xmlns=\"http://www.w3.org/2000/svg\" height=\"24px\"viewBox=\"0 0 24 24\"\n",
              "       width=\"24px\">\n",
              "    <path d=\"M0 0h24v24H0V0z\" fill=\"none\"/>\n",
              "    <path d=\"M18.56 5.44l.94 2.06.94-2.06 2.06-.94-2.06-.94-.94-2.06-.94 2.06-2.06.94zm-11 1L8.5 8.5l.94-2.06 2.06-.94-2.06-.94L8.5 2.5l-.94 2.06-2.06.94zm10 10l.94 2.06.94-2.06 2.06-.94-2.06-.94-.94-2.06-.94 2.06-2.06.94z\"/><path d=\"M17.41 7.96l-1.37-1.37c-.4-.4-.92-.59-1.43-.59-.52 0-1.04.2-1.43.59L10.3 9.45l-7.72 7.72c-.78.78-.78 2.05 0 2.83L4 21.41c.39.39.9.59 1.41.59.51 0 1.02-.2 1.41-.59l7.78-7.78 2.81-2.81c.8-.78.8-2.07 0-2.86zM5.41 20L4 18.59l7.72-7.72 1.47 1.35L5.41 20z\"/>\n",
              "  </svg>\n",
              "      </button>\n",
              "      \n",
              "  <style>\n",
              "    .colab-df-container {\n",
              "      display:flex;\n",
              "      flex-wrap:wrap;\n",
              "      gap: 12px;\n",
              "    }\n",
              "\n",
              "    .colab-df-convert {\n",
              "      background-color: #E8F0FE;\n",
              "      border: none;\n",
              "      border-radius: 50%;\n",
              "      cursor: pointer;\n",
              "      display: none;\n",
              "      fill: #1967D2;\n",
              "      height: 32px;\n",
              "      padding: 0 0 0 0;\n",
              "      width: 32px;\n",
              "    }\n",
              "\n",
              "    .colab-df-convert:hover {\n",
              "      background-color: #E2EBFA;\n",
              "      box-shadow: 0px 1px 2px rgba(60, 64, 67, 0.3), 0px 1px 3px 1px rgba(60, 64, 67, 0.15);\n",
              "      fill: #174EA6;\n",
              "    }\n",
              "\n",
              "    [theme=dark] .colab-df-convert {\n",
              "      background-color: #3B4455;\n",
              "      fill: #D2E3FC;\n",
              "    }\n",
              "\n",
              "    [theme=dark] .colab-df-convert:hover {\n",
              "      background-color: #434B5C;\n",
              "      box-shadow: 0px 1px 3px 1px rgba(0, 0, 0, 0.15);\n",
              "      filter: drop-shadow(0px 1px 2px rgba(0, 0, 0, 0.3));\n",
              "      fill: #FFFFFF;\n",
              "    }\n",
              "  </style>\n",
              "\n",
              "      <script>\n",
              "        const buttonEl =\n",
              "          document.querySelector('#df-d402fc68-458a-47c2-a062-45bbe1ca1dfe button.colab-df-convert');\n",
              "        buttonEl.style.display =\n",
              "          google.colab.kernel.accessAllowed ? 'block' : 'none';\n",
              "\n",
              "        async function convertToInteractive(key) {\n",
              "          const element = document.querySelector('#df-d402fc68-458a-47c2-a062-45bbe1ca1dfe');\n",
              "          const dataTable =\n",
              "            await google.colab.kernel.invokeFunction('convertToInteractive',\n",
              "                                                     [key], {});\n",
              "          if (!dataTable) return;\n",
              "\n",
              "          const docLinkHtml = 'Like what you see? Visit the ' +\n",
              "            '<a target=\"_blank\" href=https://colab.research.google.com/notebooks/data_table.ipynb>data table notebook</a>'\n",
              "            + ' to learn more about interactive tables.';\n",
              "          element.innerHTML = '';\n",
              "          dataTable['output_type'] = 'display_data';\n",
              "          await google.colab.output.renderOutput(dataTable, element);\n",
              "          const docLink = document.createElement('div');\n",
              "          docLink.innerHTML = docLinkHtml;\n",
              "          element.appendChild(docLink);\n",
              "        }\n",
              "      </script>\n",
              "    </div>\n",
              "  </div>\n",
              "  "
            ]
          },
          "metadata": {},
          "execution_count": 12
        }
      ]
    },
    {
      "cell_type": "markdown",
      "source": [
        "3. Data Quality Check And Missing Values"
      ],
      "metadata": {
        "id": "L1dkHPdoL0Ut"
      }
    },
    {
      "cell_type": "markdown",
      "source": [
        "3.1 Percentage of missing values for columns and rows"
      ],
      "metadata": {
        "id": "VRWpTz23L0Uu"
      }
    },
    {
      "cell_type": "code",
      "source": [
        "# checking column-wise null percentages\n",
        "cols = pd.DataFrame(df_train.isnull().mean().round(4) * 100, columns =['precentage_missing_value']).sort_values(by=['precentage_missing_value'])\n",
        "print(cols)"
      ],
      "metadata": {
        "execution": {
          "iopub.status.busy": "2023-02-26T04:18:37.454500Z",
          "iopub.execute_input": "2023-02-26T04:18:37.454857Z",
          "iopub.status.idle": "2023-02-26T04:18:37.675819Z",
          "shell.execute_reply.started": "2023-02-26T04:18:37.454826Z",
          "shell.execute_reply": "2023-02-26T04:18:37.673845Z"
        },
        "trusted": true,
        "id": "4E-JRWL9L0Uu",
        "outputId": "6ce34fe5-2cb7-4580-e3e7-5524ff4aef6a",
        "colab": {
          "base_uri": "https://localhost:8080/"
        }
      },
      "execution_count": null,
      "outputs": [
        {
          "output_type": "stream",
          "name": "stdout",
          "text": [
            "                    precentage_missing_value\n",
            "CreditScore                             0.00\n",
            "EverDelinquent                          0.00\n",
            "ServicerName                            0.00\n",
            "NumBorrowers                            0.00\n",
            "OrigLoanTerm                            0.00\n",
            "LoanPurpose                             0.00\n",
            "LoanSeqNum                              0.00\n",
            "PostalCode                              0.00\n",
            "PropertyType                            0.00\n",
            "PropertyState                           0.00\n",
            "ProductType                             0.00\n",
            "PPM                                     0.00\n",
            "MonthsDelinquent                        0.00\n",
            "Channel                                 0.00\n",
            "LTV                                     0.00\n",
            "OrigUPB                                 0.00\n",
            "DTI                                     0.00\n",
            "OCLTV                                   0.00\n",
            "Occupancy                               0.00\n",
            "Units                                   0.00\n",
            "MIP                                     0.00\n",
            "MSA                                     0.00\n",
            "MaturityDate                            0.00\n",
            "FirstTimeHomebuyer                      0.00\n",
            "FirstPaymentDate                        0.00\n",
            "OrigInterestRate                        0.00\n",
            "MonthsInRepayment                       0.00\n",
            "SellerName                              8.58\n"
          ]
        }
      ]
    },
    {
      "cell_type": "markdown",
      "source": [
        "#only Seller Name has missing values"
      ],
      "metadata": {
        "id": "uuS4_UkEL0Uu"
      }
    },
    {
      "cell_type": "code",
      "source": [
        "#if we observe maturitydate,firstpaymentdate,the difference of these columns is origloanterm so we can exclude these columns\n",
        "##columns such as MSA,propertystate,postalcode,loanseqnum,sellername,servicename might not hold that much importance because of so many unique values present in them\n",
        "#so we can drop columns such as maturitydate,firstpaymentdate,MSA,propertystate,postalcode,loanseqnum,sellername,servicename"
      ],
      "metadata": {
        "execution": {
          "iopub.status.busy": "2023-02-26T04:18:37.678720Z",
          "iopub.execute_input": "2023-02-26T04:18:37.679623Z",
          "iopub.status.idle": "2023-02-26T04:18:37.685896Z",
          "shell.execute_reply.started": "2023-02-26T04:18:37.679572Z",
          "shell.execute_reply": "2023-02-26T04:18:37.684432Z"
        },
        "trusted": true,
        "id": "9EJ_GBjCL0Uu"
      },
      "execution_count": null,
      "outputs": []
    },
    {
      "cell_type": "code",
      "source": [
        "categoricalcolumns"
      ],
      "metadata": {
        "execution": {
          "iopub.status.busy": "2023-02-26T04:18:37.687672Z",
          "iopub.execute_input": "2023-02-26T04:18:37.688301Z",
          "iopub.status.idle": "2023-02-26T04:18:37.702655Z",
          "shell.execute_reply.started": "2023-02-26T04:18:37.688261Z",
          "shell.execute_reply": "2023-02-26T04:18:37.700890Z"
        },
        "trusted": true,
        "id": "-myPVHAIL0Uu",
        "outputId": "eb173c48-8189-488f-b315-9e7b284e6f62",
        "colab": {
          "base_uri": "https://localhost:8080/"
        }
      },
      "execution_count": null,
      "outputs": [
        {
          "output_type": "execute_result",
          "data": {
            "text/plain": [
              "['FirstTimeHomebuyer',\n",
              " 'MSA',\n",
              " 'Occupancy',\n",
              " 'Channel',\n",
              " 'PPM',\n",
              " 'ProductType',\n",
              " 'PropertyState',\n",
              " 'PropertyType',\n",
              " 'PostalCode',\n",
              " 'LoanSeqNum',\n",
              " 'LoanPurpose',\n",
              " 'NumBorrowers',\n",
              " 'SellerName',\n",
              " 'ServicerName']"
            ]
          },
          "metadata": {},
          "execution_count": 15
        }
      ]
    },
    {
      "cell_type": "code",
      "source": [
        "df_train=df_train.drop(['MSA','PropertyState','PostalCode','LoanSeqNum','SellerName','ServicerName','FirstPaymentDate', 'MaturityDate'],axis=1)"
      ],
      "metadata": {
        "execution": {
          "iopub.status.busy": "2023-02-26T04:18:37.704742Z",
          "iopub.execute_input": "2023-02-26T04:18:37.706208Z",
          "iopub.status.idle": "2023-02-26T04:18:37.765855Z",
          "shell.execute_reply.started": "2023-02-26T04:18:37.706151Z",
          "shell.execute_reply": "2023-02-26T04:18:37.764645Z"
        },
        "trusted": true,
        "id": "34n4L2UWL0Uu"
      },
      "execution_count": null,
      "outputs": []
    },
    {
      "cell_type": "code",
      "source": [
        "categoricalcolumns=[]\n",
        "numericalcolumns=[]\n",
        "for i in df_train.columns:\n",
        "   if df_train[i].dtypes==object:\n",
        "      categoricalcolumns.append(i)\n",
        "   else:\n",
        "      numericalcolumns.append(i)\n",
        "print(numericalcolumns) \n",
        "print(categoricalcolumns)"
      ],
      "metadata": {
        "execution": {
          "iopub.status.busy": "2023-02-26T04:18:37.767281Z",
          "iopub.execute_input": "2023-02-26T04:18:37.768935Z",
          "iopub.status.idle": "2023-02-26T04:18:37.778625Z",
          "shell.execute_reply.started": "2023-02-26T04:18:37.768889Z",
          "shell.execute_reply": "2023-02-26T04:18:37.777065Z"
        },
        "trusted": true,
        "id": "6HGRUBCzL0Uu",
        "outputId": "08089e5b-4083-4af0-b3d6-d1f31fe0cc36",
        "colab": {
          "base_uri": "https://localhost:8080/"
        }
      },
      "execution_count": null,
      "outputs": [
        {
          "output_type": "stream",
          "name": "stdout",
          "text": [
            "['CreditScore', 'MIP', 'Units', 'OCLTV', 'DTI', 'OrigUPB', 'LTV', 'OrigInterestRate', 'OrigLoanTerm', 'MonthsDelinquent', 'MonthsInRepayment']\n",
            "['FirstTimeHomebuyer', 'Occupancy', 'Channel', 'PPM', 'ProductType', 'PropertyType', 'LoanPurpose', 'NumBorrowers', 'EverDelinquent']\n"
          ]
        }
      ]
    },
    {
      "cell_type": "code",
      "source": [
        "# assuming `numericalcolumns` is a list of column names\n",
        "for i, col in enumerate(numericalcolumns):\n",
        "    # create a new subplot for each column\n",
        "    plt.subplot(5, 5, i+1)\n",
        "    sns.boxplot(df_train[col])\n",
        "    plt.title(col)\n",
        "\n",
        "plt.tight_layout()  # improve spacing between subplots\n",
        "plt.show()\n",
        "    "
      ],
      "metadata": {
        "execution": {
          "iopub.status.busy": "2023-02-26T04:18:37.780004Z",
          "iopub.execute_input": "2023-02-26T04:18:37.780969Z",
          "iopub.status.idle": "2023-02-26T04:18:40.244513Z",
          "shell.execute_reply.started": "2023-02-26T04:18:37.780905Z",
          "shell.execute_reply": "2023-02-26T04:18:40.243556Z"
        },
        "trusted": true,
        "id": "MjX4nplwL0Uu",
        "outputId": "da694867-cdd3-40cb-8557-b25dca22e81a",
        "colab": {
          "base_uri": "https://localhost:8080/",
          "height": 205
        }
      },
      "execution_count": null,
      "outputs": [
        {
          "output_type": "display_data",
          "data": {
            "text/plain": [
              "<Figure size 432x288 with 11 Axes>"
            ],
            "image/png": "[encoded data removed]"
          },
          "metadata": {
            "needs_background": "light"
          }
        }
      ]
    },
    {
      "cell_type": "code",
      "source": [
        "#rechecking once again\n",
        "df_train.head()"
      ],
      "metadata": {
        "execution": {
          "iopub.status.busy": "2023-02-26T04:18:40.245803Z",
          "iopub.execute_input": "2023-02-26T04:18:40.246964Z",
          "iopub.status.idle": "2023-02-26T04:18:40.270329Z",
          "shell.execute_reply.started": "2023-02-26T04:18:40.246923Z",
          "shell.execute_reply": "2023-02-26T04:18:40.268775Z"
        },
        "trusted": true,
        "id": "1YOP1PcUL0Uv",
        "outputId": "c2a6da81-e136-472a-8b1c-a13b6f77331a",
        "colab": {
          "base_uri": "https://localhost:8080/",
          "height": 270
        }
      },
      "execution_count": null,
      "outputs": [
        {
          "output_type": "execute_result",
          "data": {
            "text/plain": [
              "   CreditScore FirstTimeHomebuyer  MIP  Units Occupancy  OCLTV  DTI  OrigUPB  \\\n",
              "0            0                  N   25      1         O     89   27   117000   \n",
              "1            0                  N    0      1         O     73   17   109000   \n",
              "2            0                  N    0      1         O     75   16    88000   \n",
              "3            0                  N    0      1         O     76   14   160000   \n",
              "4            0                  N    0      1         O     78   18   109000   \n",
              "\n",
              "   LTV  OrigInterestRate Channel PPM ProductType PropertyType LoanPurpose  \\\n",
              "0   89             6.750       T   N       FRM             SF           P   \n",
              "1   73             6.500       R   N       FRM             SF           N   \n",
              "2   75             6.875       T   N       FRM             SF           N   \n",
              "3   76             6.875       R   N       FRM             SF           N   \n",
              "4   78             7.125       R   N       FRM             SF           N   \n",
              "\n",
              "   OrigLoanTerm NumBorrowers EverDelinquent  MonthsDelinquent  \\\n",
              "0           360            2              0                 0   \n",
              "1           360            1              0                 0   \n",
              "2           360            2              0                 0   \n",
              "3           360            2              0                 0   \n",
              "4           360            2              0                 0   \n",
              "\n",
              "   MonthsInRepayment  \n",
              "0                 52  \n",
              "1                144  \n",
              "2                 67  \n",
              "3                 35  \n",
              "4                 54  "
            ],
            "text/html": [
              "\n",
              "  <div id=\"df-cd5f835e-c642-4d95-9be8-aa36da978abb\">\n",
              "    <div class=\"colab-df-container\">\n",
              "      <div>\n",
              "<style scoped>\n",
              "    .dataframe tbody tr th:only-of-type {\n",
              "        vertical-align: middle;\n",
              "    }\n",
              "\n",
              "    .dataframe tbody tr th {\n",
              "        vertical-align: top;\n",
              "    }\n",
              "\n",
              "    .dataframe thead th {\n",
              "        text-align: right;\n",
              "    }\n",
              "</style>\n",
              "<table border=\"1\" class=\"dataframe\">\n",
              "  <thead>\n",
              "    <tr style=\"text-align: right;\">\n",
              "      <th></th>\n",
              "      <th>CreditScore</th>\n",
              "      <th>FirstTimeHomebuyer</th>\n",
              "      <th>MIP</th>\n",
              "      <th>Units</th>\n",
              "      <th>Occupancy</th>\n",
              "      <th>OCLTV</th>\n",
              "      <th>DTI</th>\n",
              "      <th>OrigUPB</th>\n",
              "      <th>LTV</th>\n",
              "      <th>OrigInterestRate</th>\n",
              "      <th>Channel</th>\n",
              "      <th>PPM</th>\n",
              "      <th>ProductType</th>\n",
              "      <th>PropertyType</th>\n",
              "      <th>LoanPurpose</th>\n",
              "      <th>OrigLoanTerm</th>\n",
              "      <th>NumBorrowers</th>\n",
              "      <th>EverDelinquent</th>\n",
              "      <th>MonthsDelinquent</th>\n",
              "      <th>MonthsInRepayment</th>\n",
              "    </tr>\n",
              "  </thead>\n",
              "  <tbody>\n",
              "    <tr>\n",
              "      <th>0</th>\n",
              "      <td>0</td>\n",
              "      <td>N</td>\n",
              "      <td>25</td>\n",
              "      <td>1</td>\n",
              "      <td>O</td>\n",
              "      <td>89</td>\n",
              "      <td>27</td>\n",
              "      <td>117000</td>\n",
              "      <td>89</td>\n",
              "      <td>6.750</td>\n",
              "      <td>T</td>\n",
              "      <td>N</td>\n",
              "      <td>FRM</td>\n",
              "      <td>SF</td>\n",
              "      <td>P</td>\n",
              "      <td>360</td>\n",
              "      <td>2</td>\n",
              "      <td>0</td>\n",
              "      <td>0</td>\n",
              "      <td>52</td>\n",
              "    </tr>\n",
              "    <tr>\n",
              "      <th>1</th>\n",
              "      <td>0</td>\n",
              "      <td>N</td>\n",
              "      <td>0</td>\n",
              "      <td>1</td>\n",
              "      <td>O</td>\n",
              "      <td>73</td>\n",
              "      <td>17</td>\n",
              "      <td>109000</td>\n",
              "      <td>73</td>\n",
              "      <td>6.500</td>\n",
              "      <td>R</td>\n",
              "      <td>N</td>\n",
              "      <td>FRM</td>\n",
              "      <td>SF</td>\n",
              "      <td>N</td>\n",
              "      <td>360</td>\n",
              "      <td>1</td>\n",
              "      <td>0</td>\n",
              "      <td>0</td>\n",
              "      <td>144</td>\n",
              "    </tr>\n",
              "    <tr>\n",
              "      <th>2</th>\n",
              "      <td>0</td>\n",
              "      <td>N</td>\n",
              "      <td>0</td>\n",
              "      <td>1</td>\n",
              "      <td>O</td>\n",
              "      <td>75</td>\n",
              "      <td>16</td>\n",
              "      <td>88000</td>\n",
              "      <td>75</td>\n",
              "      <td>6.875</td>\n",
              "      <td>T</td>\n",
              "      <td>N</td>\n",
              "      <td>FRM</td>\n",
              "      <td>SF</td>\n",
              "      <td>N</td>\n",
              "      <td>360</td>\n",
              "      <td>2</td>\n",
              "      <td>0</td>\n",
              "      <td>0</td>\n",
              "      <td>67</td>\n",
              "    </tr>\n",
              "    <tr>\n",
              "      <th>3</th>\n",
              "      <td>0</td>\n",
              "      <td>N</td>\n",
              "      <td>0</td>\n",
              "      <td>1</td>\n",
              "      <td>O</td>\n",
              "      <td>76</td>\n",
              "      <td>14</td>\n",
              "      <td>160000</td>\n",
              "      <td>76</td>\n",
              "      <td>6.875</td>\n",
              "      <td>R</td>\n",
              "      <td>N</td>\n",
              "      <td>FRM</td>\n",
              "      <td>SF</td>\n",
              "      <td>N</td>\n",
              "      <td>360</td>\n",
              "      <td>2</td>\n",
              "      <td>0</td>\n",
              "      <td>0</td>\n",
              "      <td>35</td>\n",
              "    </tr>\n",
              "    <tr>\n",
              "      <th>4</th>\n",
              "      <td>0</td>\n",
              "      <td>N</td>\n",
              "      <td>0</td>\n",
              "      <td>1</td>\n",
              "      <td>O</td>\n",
              "      <td>78</td>\n",
              "      <td>18</td>\n",
              "      <td>109000</td>\n",
              "      <td>78</td>\n",
              "      <td>7.125</td>\n",
              "      <td>R</td>\n",
              "      <td>N</td>\n",
              "      <td>FRM</td>\n",
              "      <td>SF</td>\n",
              "      <td>N</td>\n",
              "      <td>360</td>\n",
              "      <td>2</td>\n",
              "      <td>0</td>\n",
              "      <td>0</td>\n",
              "      <td>54</td>\n",
              "    </tr>\n",
              "  </tbody>\n",
              "</table>\n",
              "</div>\n",
              "      <button class=\"colab-df-convert\" onclick=\"convertToInteractive('df-cd5f835e-c642-4d95-9be8-aa36da978abb')\"\n",
              "              title=\"Convert this dataframe to an interactive table.\"\n",
              "              style=\"display:none;\">\n",
              "        \n",
              "  <svg xmlns=\"http://www.w3.org/2000/svg\" height=\"24px\"viewBox=\"0 0 24 24\"\n",
              "       width=\"24px\">\n",
              "    <path d=\"M0 0h24v24H0V0z\" fill=\"none\"/>\n",
              "    <path d=\"M18.56 5.44l.94 2.06.94-2.06 2.06-.94-2.06-.94-.94-2.06-.94 2.06-2.06.94zm-11 1L8.5 8.5l.94-2.06 2.06-.94-2.06-.94L8.5 2.5l-.94 2.06-2.06.94zm10 10l.94 2.06.94-2.06 2.06-.94-2.06-.94-.94-2.06-.94 2.06-2.06.94z\"/><path d=\"M17.41 7.96l-1.37-1.37c-.4-.4-.92-.59-1.43-.59-.52 0-1.04.2-1.43.59L10.3 9.45l-7.72 7.72c-.78.78-.78 2.05 0 2.83L4 21.41c.39.39.9.59 1.41.59.51 0 1.02-.2 1.41-.59l7.78-7.78 2.81-2.81c.8-.78.8-2.07 0-2.86zM5.41 20L4 18.59l7.72-7.72 1.47 1.35L5.41 20z\"/>\n",
              "  </svg>\n",
              "      </button>\n",
              "      \n",
              "  <style>\n",
              "    .colab-df-container {\n",
              "      display:flex;\n",
              "      flex-wrap:wrap;\n",
              "      gap: 12px;\n",
              "    }\n",
              "\n",
              "    .colab-df-convert {\n",
              "      background-color: #E8F0FE;\n",
              "      border: none;\n",
              "      border-radius: 50%;\n",
              "      cursor: pointer;\n",
              "      display: none;\n",
              "      fill: #1967D2;\n",
              "      height: 32px;\n",
              "      padding: 0 0 0 0;\n",
              "      width: 32px;\n",
              "    }\n",
              "\n",
              "    .colab-df-convert:hover {\n",
              "      background-color: #E2EBFA;\n",
              "      box-shadow: 0px 1px 2px rgba(60, 64, 67, 0.3), 0px 1px 3px 1px rgba(60, 64, 67, 0.15);\n",
              "      fill: #174EA6;\n",
              "    }\n",
              "\n",
              "    [theme=dark] .colab-df-convert {\n",
              "      background-color: #3B4455;\n",
              "      fill: #D2E3FC;\n",
              "    }\n",
              "\n",
              "    [theme=dark] .colab-df-convert:hover {\n",
              "      background-color: #434B5C;\n",
              "      box-shadow: 0px 1px 3px 1px rgba(0, 0, 0, 0.15);\n",
              "      filter: drop-shadow(0px 1px 2px rgba(0, 0, 0, 0.3));\n",
              "      fill: #FFFFFF;\n",
              "    }\n",
              "  </style>\n",
              "\n",
              "      <script>\n",
              "        const buttonEl =\n",
              "          document.querySelector('#df-cd5f835e-c642-4d95-9be8-aa36da978abb button.colab-df-convert');\n",
              "        buttonEl.style.display =\n",
              "          google.colab.kernel.accessAllowed ? 'block' : 'none';\n",
              "\n",
              "        async function convertToInteractive(key) {\n",
              "          const element = document.querySelector('#df-cd5f835e-c642-4d95-9be8-aa36da978abb');\n",
              "          const dataTable =\n",
              "            await google.colab.kernel.invokeFunction('convertToInteractive',\n",
              "                                                     [key], {});\n",
              "          if (!dataTable) return;\n",
              "\n",
              "          const docLinkHtml = 'Like what you see? Visit the ' +\n",
              "            '<a target=\"_blank\" href=https://colab.research.google.com/notebooks/data_table.ipynb>data table notebook</a>'\n",
              "            + ' to learn more about interactive tables.';\n",
              "          element.innerHTML = '';\n",
              "          dataTable['output_type'] = 'display_data';\n",
              "          await google.colab.output.renderOutput(dataTable, element);\n",
              "          const docLink = document.createElement('div');\n",
              "          docLink.innerHTML = docLinkHtml;\n",
              "          element.appendChild(docLink);\n",
              "        }\n",
              "      </script>\n",
              "    </div>\n",
              "  </div>\n",
              "  "
            ]
          },
          "metadata": {},
          "execution_count": 19
        }
      ]
    },
    {
      "cell_type": "markdown",
      "source": [
        "for outlier analysis we will focus on\n",
        " 1)'CreditScore',\n",
        " 4)'MIP',\n",
        " 5)'Units',\n",
        " 6)'OCLTV',\n",
        " 7)'DTI',\n",
        " 8)'OrigUPB',\n",
        " 9)'LTV',\n",
        " 10)'OrigInterestRate',\n",
        " 11)'OrigLoanTerm',\n",
        " 12)'EverDelinquent',\n",
        " 13)'MonthsDelinquent',\n",
        " 14)'MonthsInRepayment'\n"
      ],
      "metadata": {
        "id": "O1WIpvtiL0Uv"
      }
    },
    {
      "cell_type": "code",
      "source": [
        "#percentage of outliers present in each column\n",
        "for i in numericalcolumns:\n",
        "    \n",
        " IQR = (df_train[i]).quantile(0.75) - (df_train[i]).quantile(0.25)\n",
        " Upper_limit = (df_train[i]).quantile(0.75) + IQR*1.5\n",
        " lower_limit = (df_train[i]).quantile(0.25) - IQR*1.5\n",
        " print(i,round(100.0 * len(df_train[(df_train[i])>Upper_limit])/len(df_train), 2)+round(100.0 * len(df_train[(df_train[i])<lower_limit])/len(df_train), 2))"
      ],
      "metadata": {
        "execution": {
          "iopub.status.busy": "2023-02-26T04:18:40.272223Z",
          "iopub.execute_input": "2023-02-26T04:18:40.272741Z",
          "iopub.status.idle": "2023-02-26T04:18:40.564779Z",
          "shell.execute_reply.started": "2023-02-26T04:18:40.272702Z",
          "shell.execute_reply": "2023-02-26T04:18:40.563378Z"
        },
        "trusted": true,
        "id": "lQckliTuL0Uv",
        "outputId": "2c80aa2d-c61d-4a40-d3cd-8ccd05047d3a",
        "colab": {
          "base_uri": "https://localhost:8080/"
        }
      },
      "execution_count": null,
      "outputs": [
        {
          "output_type": "stream",
          "name": "stdout",
          "text": [
            "CreditScore 0.79\n",
            "MIP 0.0\n",
            "Units 2.01\n",
            "OCLTV 3.05\n",
            "DTI 0.07\n",
            "OrigUPB 0.33\n",
            "LTV 3.05\n",
            "OrigInterestRate 3.69\n",
            "OrigLoanTerm 0.82\n",
            "MonthsDelinquent 19.78\n",
            "MonthsInRepayment 13.83\n"
          ]
        }
      ]
    },
    {
      "cell_type": "code",
      "source": [
        "#Origintrest rate,orig loanterm,monthsdeliquent,monthsinrepayment shoudl be analyzed more so i will not replace the values with upper and lower limits in this columns"
      ],
      "metadata": {
        "execution": {
          "iopub.status.busy": "2023-02-26T04:18:40.566562Z",
          "iopub.execute_input": "2023-02-26T04:18:40.567080Z",
          "iopub.status.idle": "2023-02-26T04:18:40.573307Z",
          "shell.execute_reply.started": "2023-02-26T04:18:40.567032Z",
          "shell.execute_reply": "2023-02-26T04:18:40.571668Z"
        },
        "trusted": true,
        "id": "dz7BzY9fL0Uv"
      },
      "execution_count": null,
      "outputs": []
    },
    {
      "cell_type": "code",
      "source": [
        "excludedcolumns=['OrigInterestRate','OrigLoanTerm','MonthsDelinquent','MonthsInRepayment']\n",
        "numericalcolumns1=[x for x in numericalcolumns if x not in excludedcolumns]"
      ],
      "metadata": {
        "execution": {
          "iopub.status.busy": "2023-02-26T04:18:40.575189Z",
          "iopub.execute_input": "2023-02-26T04:18:40.575856Z",
          "iopub.status.idle": "2023-02-26T04:18:40.590506Z",
          "shell.execute_reply.started": "2023-02-26T04:18:40.575818Z",
          "shell.execute_reply": "2023-02-26T04:18:40.588872Z"
        },
        "trusted": true,
        "id": "PtK6VzSsL0Uv"
      },
      "execution_count": null,
      "outputs": []
    },
    {
      "cell_type": "code",
      "source": [
        "for i in numericalcolumns1:\n",
        " IQR = (df_train[i]).quantile(0.75) - (df_train[i]).quantile(0.25)\n",
        " Upper_limit = (df_train[i]).quantile(0.75) + IQR*1.5\n",
        " lower_limit = (df_train[i]).quantile(0.25) - IQR*1.5\n",
        " # Replace outliers with respective limit using np.where\n",
        " df_train[i]= np.where(df_train[i]< lower_limit, lower_limit, df_train[i])\n",
        " df_train[i]= np.where(df_train[i]> Upper_limit, Upper_limit, df_train[i])\n",
        " print(i,round(100.0 * len(df_train[(df_train[i])>Upper_limit])/len(df_train), 2)+round(100.0 * len(df_train[(df_train[i])<lower_limit])/len(df_train), 2))   "
      ],
      "metadata": {
        "execution": {
          "iopub.status.busy": "2023-02-26T04:18:40.592712Z",
          "iopub.execute_input": "2023-02-26T04:18:40.593260Z",
          "iopub.status.idle": "2023-02-26T04:18:40.860659Z",
          "shell.execute_reply.started": "2023-02-26T04:18:40.593212Z",
          "shell.execute_reply": "2023-02-26T04:18:40.858135Z"
        },
        "trusted": true,
        "id": "ok45LunzL0Uv",
        "outputId": "f5f96520-aae0-428c-e1d4-9f8937288e8c",
        "colab": {
          "base_uri": "https://localhost:8080/"
        }
      },
      "execution_count": null,
      "outputs": [
        {
          "output_type": "stream",
          "name": "stdout",
          "text": [
            "CreditScore 0.0\n",
            "MIP 0.0\n",
            "Units 0.0\n",
            "OCLTV 0.0\n",
            "DTI 0.0\n",
            "OrigUPB 0.0\n",
            "LTV 0.0\n"
          ]
        }
      ]
    },
    {
      "cell_type": "markdown",
      "source": [
        "#SO WE HAD SUCCESFULLY TREATED OUTLIERS IN NUMERICAL COLUMNS"
      ],
      "metadata": {
        "id": "f6EoYsWDL0Uv"
      }
    },
    {
      "cell_type": "markdown",
      "source": [
        "#now we have to see whether we can treat outliers in excluded columns\n"
      ],
      "metadata": {
        "id": "Hzy9zvMYL0Uv"
      }
    },
    {
      "cell_type": "code",
      "source": [
        "for i in excludedcolumns:\n",
        "    fig, ax = plt.subplots()\n",
        "    sns.boxplot(df_train[i], ax=ax)\n",
        "    ax.set_title(i)\n",
        "    plt.show()  "
      ],
      "metadata": {
        "execution": {
          "iopub.status.busy": "2023-02-26T04:18:40.865326Z",
          "iopub.execute_input": "2023-02-26T04:18:40.865777Z",
          "iopub.status.idle": "2023-02-26T04:18:41.907334Z",
          "shell.execute_reply.started": "2023-02-26T04:18:40.865740Z",
          "shell.execute_reply": "2023-02-26T04:18:41.905594Z"
        },
        "trusted": true,
        "id": "f-OrSvNGL0Uv",
        "outputId": "320ef722-52c4-4914-90c5-c9e9d5504067",
        "colab": {
          "base_uri": "https://localhost:8080/",
          "height": 1000
        }
      },
      "execution_count": null,
      "outputs": [
        {
          "output_type": "display_data",
          "data": {
            "text/plain": [
              "<Figure size 432x288 with 1 Axes>"
            ],
            "image/png": "[encoded data removed]"
          },
          "metadata": {
            "needs_background": "light"
          }
        },
        {
          "output_type": "display_data",
          "data": {
            "text/plain": [
              "<Figure size 432x288 with 1 Axes>"
            ],
            "image/png": "[encoded data removed]"
          },
          "metadata": {
            "needs_background": "light"
          }
        },
        {
          "output_type": "display_data",
          "data": {
            "text/plain": [
              "<Figure size 432x288 with 1 Axes>"
            ],
            "image/png": "[encoded data removed]"
          },
          "metadata": {
            "needs_background": "light"
          }
        },
        {
          "output_type": "display_data",
          "data": {
            "text/plain": [
              "<Figure size 432x288 with 1 Axes>"
            ],
            "image/png": "[encoded data removed]"
          },
          "metadata": {
            "needs_background": "light"
          }
        }
      ]
    },
    {
      "cell_type": "markdown",
      "source": [
        "we cannot really identify the reason for these outliers so we will leave it and see after our model results whether we can do anything"
      ],
      "metadata": {
        "id": "MVIW0eToL0Uw"
      }
    },
    {
      "cell_type": "code",
      "source": [
        "for i in categoricalcolumns:\n",
        "    print(i,df_train[i].value_counts())"
      ],
      "metadata": {
        "execution": {
          "iopub.status.busy": "2023-02-26T04:18:41.908754Z",
          "iopub.execute_input": "2023-02-26T04:18:41.909745Z",
          "iopub.status.idle": "2023-02-26T04:18:42.065078Z",
          "shell.execute_reply.started": "2023-02-26T04:18:41.909670Z",
          "shell.execute_reply": "2023-02-26T04:18:42.063511Z"
        },
        "trusted": true,
        "id": "K81U7Q04L0Uw",
        "outputId": "5d9b20e4-5a2b-4f8f-b213-086342951cc6",
        "colab": {
          "base_uri": "https://localhost:8080/"
        }
      },
      "execution_count": null,
      "outputs": [
        {
          "output_type": "stream",
          "name": "stdout",
          "text": [
            "FirstTimeHomebuyer N    184154\n",
            "X     78015\n",
            "Y     29282\n",
            "Name: FirstTimeHomebuyer, dtype: int64\n",
            "Occupancy O    276131\n",
            "I      8734\n",
            "S      6586\n",
            "Name: Occupancy, dtype: int64\n",
            "Channel T    167670\n",
            "R    123219\n",
            "C       407\n",
            "B       155\n",
            "Name: Channel, dtype: int64\n",
            "PPM N    282125\n",
            "X      5405\n",
            "Y      3921\n",
            "Name: PPM, dtype: int64\n",
            "ProductType FRM      291451\n",
            "Name: ProductType, dtype: int64\n",
            "PropertyType SF    244923\n",
            "PU     27506\n",
            "CO     18100\n",
            "MH       723\n",
            "LH       105\n",
            "CP        72\n",
            "X         22\n",
            "Name: PropertyType, dtype: int64\n",
            "LoanPurpose P    123404\n",
            "N    110036\n",
            "C     58011\n",
            "Name: LoanPurpose, dtype: int64\n",
            "NumBorrowers 2     187335\n",
            "1     103777\n",
            "X        339\n",
            "Name: NumBorrowers, dtype: int64\n",
            "EverDelinquent 0    233788\n",
            "1     57663\n",
            "Name: EverDelinquent, dtype: int64\n"
          ]
        }
      ]
    },
    {
      "cell_type": "markdown",
      "source": [
        "**if we see in first time homebuyer there is another category as x,and in occupancy one category is dominating,and there aare 4 channels in which x and y are far more less compared to other one,in product type only frm is there,and in property type three are dominating,and in loan purpose only x is least(so we have to identify suitable one to replace them because they might cause data redundancy issues)**"
      ],
      "metadata": {
        "id": "Vjs8De4oL0Uw"
      }
    },
    {
      "cell_type": "markdown",
      "source": [
        "1)in firsttime homebuyer i will replace x with n because aperson might be buying or might not be buying there are only two options so i am replacing with no\n",
        "\n",
        "2)Occupancy type is important because it indicates to a lender the lengths to which a borrower will go before they give up making payments on their mortgage.To understand this, imagine you own two properties, each with their own mortgage.\n",
        "One property is your home, where your spouse or kids live, or where you spend most of your time. This is your principal residence. The other property is a duplex that you rent out. This is your investment property.Now, imagine you faced a significant financial hardship, and you could only afford to keep making payments on one of your two mortgages. 0-own house(one-to-four unit family home) S-secondary(vaccation home) I-investmet house(most important)\n",
        "\n",
        "3)PPM-prepayment penalty mortgage Prepayment penalties are written into mortgage contracts by lenders to compensate for prepayment risk, particularly in difficult economic climates and under circumstances where the incentive for a borrower to refinance a subprime mortgage is high. These penalties don’t only kick in when a borrower pays off the entire loan. Some penalty provisions go into effect if the borrower pays a large portion of the loan balance in a single payment.(so i will also replace here with mode)"
      ],
      "metadata": {
        "id": "t7j_Tm2uL0Uw"
      }
    },
    {
      "cell_type": "markdown",
      "source": [
        "**1)first time homebuyer**"
      ],
      "metadata": {
        "id": "tk-NEWrxL0Uw"
      }
    },
    {
      "cell_type": "code",
      "source": [
        "df_train['FirstTimeHomebuyer']=df_train['FirstTimeHomebuyer'].replace(to_replace=[\"N\",\"X\",\"Y\"],value=[\"NO\",\"NO\",\"YES\"],regex=True)\n",
        "df_train['FirstTimeHomebuyer'].value_counts()"
      ],
      "metadata": {
        "execution": {
          "iopub.status.busy": "2023-02-26T04:18:42.066790Z",
          "iopub.execute_input": "2023-02-26T04:18:42.067289Z",
          "iopub.status.idle": "2023-02-26T04:18:43.790739Z",
          "shell.execute_reply.started": "2023-02-26T04:18:42.067248Z",
          "shell.execute_reply": "2023-02-26T04:18:43.788690Z"
        },
        "trusted": true,
        "id": "5I6ynv-7L0Uw",
        "outputId": "d078caf2-f7fb-40be-8218-d9a204a8d523",
        "colab": {
          "base_uri": "https://localhost:8080/"
        }
      },
      "execution_count": null,
      "outputs": [
        {
          "output_type": "execute_result",
          "data": {
            "text/plain": [
              "NO     262169\n",
              "YES     29282\n",
              "Name: FirstTimeHomebuyer, dtype: int64"
            ]
          },
          "metadata": {},
          "execution_count": 26
        }
      ]
    },
    {
      "cell_type": "markdown",
      "source": [
        "**2)**channel"
      ],
      "metadata": {
        "id": "26JoZJrPL0Ux"
      }
    },
    {
      "cell_type": "code",
      "source": [
        "df_train[\"Channel\"]=df_train[\"Channel\"].replace(to_replace=[\"T\",\"R\",\"C\",\"B\"],value=[\"Traditional Mortgage\",\"Retail banking\",\"Retail banking\",\"Retail banking\"],regex=True)\n",
        "df_train[\"Channel\"].value_counts()"
      ],
      "metadata": {
        "execution": {
          "iopub.status.busy": "2023-02-26T04:18:43.792798Z",
          "iopub.execute_input": "2023-02-26T04:18:43.793297Z",
          "iopub.status.idle": "2023-02-26T04:18:45.986544Z",
          "shell.execute_reply.started": "2023-02-26T04:18:43.793258Z",
          "shell.execute_reply": "2023-02-26T04:18:45.984904Z"
        },
        "trusted": true,
        "id": "-_UAHzTTL0Ux",
        "outputId": "cff217cc-f61a-469c-ec30-0f44fb99dc06",
        "colab": {
          "base_uri": "https://localhost:8080/"
        }
      },
      "execution_count": null,
      "outputs": [
        {
          "output_type": "execute_result",
          "data": {
            "text/plain": [
              "Traditional Mortgage    167670\n",
              "Retail banking          123781\n",
              "Name: Channel, dtype: int64"
            ]
          },
          "metadata": {},
          "execution_count": 27
        }
      ]
    },
    {
      "cell_type": "code",
      "source": [
        "df_train.head()"
      ],
      "metadata": {
        "execution": {
          "iopub.status.busy": "2023-02-26T04:18:45.988862Z",
          "iopub.execute_input": "2023-02-26T04:18:45.989280Z",
          "iopub.status.idle": "2023-02-26T04:18:46.021338Z",
          "shell.execute_reply.started": "2023-02-26T04:18:45.989245Z",
          "shell.execute_reply": "2023-02-26T04:18:46.019773Z"
        },
        "trusted": true,
        "id": "cpkqzj12L0Ux",
        "outputId": "43888f21-4296-4cfd-8afa-86877cf83a7e",
        "colab": {
          "base_uri": "https://localhost:8080/",
          "height": 356
        }
      },
      "execution_count": null,
      "outputs": [
        {
          "output_type": "execute_result",
          "data": {
            "text/plain": [
              "   CreditScore FirstTimeHomebuyer   MIP  Units Occupancy  OCLTV   DTI  \\\n",
              "0        558.0                 NO  25.0    1.0         O   89.0  27.0   \n",
              "1        558.0                 NO   0.0    1.0         O   73.0  17.0   \n",
              "2        558.0                 NO   0.0    1.0         O   75.0  16.0   \n",
              "3        558.0                 NO   0.0    1.0         O   76.0  14.0   \n",
              "4        558.0                 NO   0.0    1.0         O   78.0  18.0   \n",
              "\n",
              "    OrigUPB   LTV  OrigInterestRate               Channel PPM ProductType  \\\n",
              "0  117000.0  89.0             6.750  Traditional Mortgage   N       FRM     \n",
              "1  109000.0  73.0             6.500        Retail banking   N       FRM     \n",
              "2   88000.0  75.0             6.875  Traditional Mortgage   N       FRM     \n",
              "3  160000.0  76.0             6.875        Retail banking   N       FRM     \n",
              "4  109000.0  78.0             7.125        Retail banking   N       FRM     \n",
              "\n",
              "  PropertyType LoanPurpose  OrigLoanTerm NumBorrowers EverDelinquent  \\\n",
              "0           SF           P           360            2              0   \n",
              "1           SF           N           360            1              0   \n",
              "2           SF           N           360            2              0   \n",
              "3           SF           N           360            2              0   \n",
              "4           SF           N           360            2              0   \n",
              "\n",
              "   MonthsDelinquent  MonthsInRepayment  \n",
              "0                 0                 52  \n",
              "1                 0                144  \n",
              "2                 0                 67  \n",
              "3                 0                 35  \n",
              "4                 0                 54  "
            ],
            "text/html": [
              "\n",
              "  <div id=\"df-3a026350-d407-4ed6-9226-ab96f7f789ad\">\n",
              "    <div class=\"colab-df-container\">\n",
              "      <div>\n",
              "<style scoped>\n",
              "    .dataframe tbody tr th:only-of-type {\n",
              "        vertical-align: middle;\n",
              "    }\n",
              "\n",
              "    .dataframe tbody tr th {\n",
              "        vertical-align: top;\n",
              "    }\n",
              "\n",
              "    .dataframe thead th {\n",
              "        text-align: right;\n",
              "    }\n",
              "</style>\n",
              "<table border=\"1\" class=\"dataframe\">\n",
              "  <thead>\n",
              "    <tr style=\"text-align: right;\">\n",
              "      <th></th>\n",
              "      <th>CreditScore</th>\n",
              "      <th>FirstTimeHomebuyer</th>\n",
              "      <th>MIP</th>\n",
              "      <th>Units</th>\n",
              "      <th>Occupancy</th>\n",
              "      <th>OCLTV</th>\n",
              "      <th>DTI</th>\n",
              "      <th>OrigUPB</th>\n",
              "      <th>LTV</th>\n",
              "      <th>OrigInterestRate</th>\n",
              "      <th>Channel</th>\n",
              "      <th>PPM</th>\n",
              "      <th>ProductType</th>\n",
              "      <th>PropertyType</th>\n",
              "      <th>LoanPurpose</th>\n",
              "      <th>OrigLoanTerm</th>\n",
              "      <th>NumBorrowers</th>\n",
              "      <th>EverDelinquent</th>\n",
              "      <th>MonthsDelinquent</th>\n",
              "      <th>MonthsInRepayment</th>\n",
              "    </tr>\n",
              "  </thead>\n",
              "  <tbody>\n",
              "    <tr>\n",
              "      <th>0</th>\n",
              "      <td>558.0</td>\n",
              "      <td>NO</td>\n",
              "      <td>25.0</td>\n",
              "      <td>1.0</td>\n",
              "      <td>O</td>\n",
              "      <td>89.0</td>\n",
              "      <td>27.0</td>\n",
              "      <td>117000.0</td>\n",
              "      <td>89.0</td>\n",
              "      <td>6.750</td>\n",
              "      <td>Traditional Mortgage</td>\n",
              "      <td>N</td>\n",
              "      <td>FRM</td>\n",
              "      <td>SF</td>\n",
              "      <td>P</td>\n",
              "      <td>360</td>\n",
              "      <td>2</td>\n",
              "      <td>0</td>\n",
              "      <td>0</td>\n",
              "      <td>52</td>\n",
              "    </tr>\n",
              "    <tr>\n",
              "      <th>1</th>\n",
              "      <td>558.0</td>\n",
              "      <td>NO</td>\n",
              "      <td>0.0</td>\n",
              "      <td>1.0</td>\n",
              "      <td>O</td>\n",
              "      <td>73.0</td>\n",
              "      <td>17.0</td>\n",
              "      <td>109000.0</td>\n",
              "      <td>73.0</td>\n",
              "      <td>6.500</td>\n",
              "      <td>Retail banking</td>\n",
              "      <td>N</td>\n",
              "      <td>FRM</td>\n",
              "      <td>SF</td>\n",
              "      <td>N</td>\n",
              "      <td>360</td>\n",
              "      <td>1</td>\n",
              "      <td>0</td>\n",
              "      <td>0</td>\n",
              "      <td>144</td>\n",
              "    </tr>\n",
              "    <tr>\n",
              "      <th>2</th>\n",
              "      <td>558.0</td>\n",
              "      <td>NO</td>\n",
              "      <td>0.0</td>\n",
              "      <td>1.0</td>\n",
              "      <td>O</td>\n",
              "      <td>75.0</td>\n",
              "      <td>16.0</td>\n",
              "      <td>88000.0</td>\n",
              "      <td>75.0</td>\n",
              "      <td>6.875</td>\n",
              "      <td>Traditional Mortgage</td>\n",
              "      <td>N</td>\n",
              "      <td>FRM</td>\n",
              "      <td>SF</td>\n",
              "      <td>N</td>\n",
              "      <td>360</td>\n",
              "      <td>2</td>\n",
              "      <td>0</td>\n",
              "      <td>0</td>\n",
              "      <td>67</td>\n",
              "    </tr>\n",
              "    <tr>\n",
              "      <th>3</th>\n",
              "      <td>558.0</td>\n",
              "      <td>NO</td>\n",
              "      <td>0.0</td>\n",
              "      <td>1.0</td>\n",
              "      <td>O</td>\n",
              "      <td>76.0</td>\n",
              "      <td>14.0</td>\n",
              "      <td>160000.0</td>\n",
              "      <td>76.0</td>\n",
              "      <td>6.875</td>\n",
              "      <td>Retail banking</td>\n",
              "      <td>N</td>\n",
              "      <td>FRM</td>\n",
              "      <td>SF</td>\n",
              "      <td>N</td>\n",
              "      <td>360</td>\n",
              "      <td>2</td>\n",
              "      <td>0</td>\n",
              "      <td>0</td>\n",
              "      <td>35</td>\n",
              "    </tr>\n",
              "    <tr>\n",
              "      <th>4</th>\n",
              "      <td>558.0</td>\n",
              "      <td>NO</td>\n",
              "      <td>0.0</td>\n",
              "      <td>1.0</td>\n",
              "      <td>O</td>\n",
              "      <td>78.0</td>\n",
              "      <td>18.0</td>\n",
              "      <td>109000.0</td>\n",
              "      <td>78.0</td>\n",
              "      <td>7.125</td>\n",
              "      <td>Retail banking</td>\n",
              "      <td>N</td>\n",
              "      <td>FRM</td>\n",
              "      <td>SF</td>\n",
              "      <td>N</td>\n",
              "      <td>360</td>\n",
              "      <td>2</td>\n",
              "      <td>0</td>\n",
              "      <td>0</td>\n",
              "      <td>54</td>\n",
              "    </tr>\n",
              "  </tbody>\n",
              "</table>\n",
              "</div>\n",
              "      <button class=\"colab-df-convert\" onclick=\"convertToInteractive('df-3a026350-d407-4ed6-9226-ab96f7f789ad')\"\n",
              "              title=\"Convert this dataframe to an interactive table.\"\n",
              "              style=\"display:none;\">\n",
              "        \n",
              "  <svg xmlns=\"http://www.w3.org/2000/svg\" height=\"24px\"viewBox=\"0 0 24 24\"\n",
              "       width=\"24px\">\n",
              "    <path d=\"M0 0h24v24H0V0z\" fill=\"none\"/>\n",
              "    <path d=\"M18.56 5.44l.94 2.06.94-2.06 2.06-.94-2.06-.94-.94-2.06-.94 2.06-2.06.94zm-11 1L8.5 8.5l.94-2.06 2.06-.94-2.06-.94L8.5 2.5l-.94 2.06-2.06.94zm10 10l.94 2.06.94-2.06 2.06-.94-2.06-.94-.94-2.06-.94 2.06-2.06.94z\"/><path d=\"M17.41 7.96l-1.37-1.37c-.4-.4-.92-.59-1.43-.59-.52 0-1.04.2-1.43.59L10.3 9.45l-7.72 7.72c-.78.78-.78 2.05 0 2.83L4 21.41c.39.39.9.59 1.41.59.51 0 1.02-.2 1.41-.59l7.78-7.78 2.81-2.81c.8-.78.8-2.07 0-2.86zM5.41 20L4 18.59l7.72-7.72 1.47 1.35L5.41 20z\"/>\n",
              "  </svg>\n",
              "      </button>\n",
              "      \n",
              "  <style>\n",
              "    .colab-df-container {\n",
              "      display:flex;\n",
              "      flex-wrap:wrap;\n",
              "      gap: 12px;\n",
              "    }\n",
              "\n",
              "    .colab-df-convert {\n",
              "      background-color: #E8F0FE;\n",
              "      border: none;\n",
              "      border-radius: 50%;\n",
              "      cursor: pointer;\n",
              "      display: none;\n",
              "      fill: #1967D2;\n",
              "      height: 32px;\n",
              "      padding: 0 0 0 0;\n",
              "      width: 32px;\n",
              "    }\n",
              "\n",
              "    .colab-df-convert:hover {\n",
              "      background-color: #E2EBFA;\n",
              "      box-shadow: 0px 1px 2px rgba(60, 64, 67, 0.3), 0px 1px 3px 1px rgba(60, 64, 67, 0.15);\n",
              "      fill: #174EA6;\n",
              "    }\n",
              "\n",
              "    [theme=dark] .colab-df-convert {\n",
              "      background-color: #3B4455;\n",
              "      fill: #D2E3FC;\n",
              "    }\n",
              "\n",
              "    [theme=dark] .colab-df-convert:hover {\n",
              "      background-color: #434B5C;\n",
              "      box-shadow: 0px 1px 3px 1px rgba(0, 0, 0, 0.15);\n",
              "      filter: drop-shadow(0px 1px 2px rgba(0, 0, 0, 0.3));\n",
              "      fill: #FFFFFF;\n",
              "    }\n",
              "  </style>\n",
              "\n",
              "      <script>\n",
              "        const buttonEl =\n",
              "          document.querySelector('#df-3a026350-d407-4ed6-9226-ab96f7f789ad button.colab-df-convert');\n",
              "        buttonEl.style.display =\n",
              "          google.colab.kernel.accessAllowed ? 'block' : 'none';\n",
              "\n",
              "        async function convertToInteractive(key) {\n",
              "          const element = document.querySelector('#df-3a026350-d407-4ed6-9226-ab96f7f789ad');\n",
              "          const dataTable =\n",
              "            await google.colab.kernel.invokeFunction('convertToInteractive',\n",
              "                                                     [key], {});\n",
              "          if (!dataTable) return;\n",
              "\n",
              "          const docLinkHtml = 'Like what you see? Visit the ' +\n",
              "            '<a target=\"_blank\" href=https://colab.research.google.com/notebooks/data_table.ipynb>data table notebook</a>'\n",
              "            + ' to learn more about interactive tables.';\n",
              "          element.innerHTML = '';\n",
              "          dataTable['output_type'] = 'display_data';\n",
              "          await google.colab.output.renderOutput(dataTable, element);\n",
              "          const docLink = document.createElement('div');\n",
              "          docLink.innerHTML = docLinkHtml;\n",
              "          element.appendChild(docLink);\n",
              "        }\n",
              "      </script>\n",
              "    </div>\n",
              "  </div>\n",
              "  "
            ]
          },
          "metadata": {},
          "execution_count": 28
        }
      ]
    },
    {
      "cell_type": "markdown",
      "source": [
        "*The number of months in delinquency and the number of months in repayment are related in the sense that delinquency occurs when a borrower is behind on their loan payments. The number of months in delinquency represents the length of time that a borrower has been late on their payments, while the number of months in repayment represents the length of time that a borrower has been making payments on their loan.*"
      ],
      "metadata": {
        "id": "yblKq68qL0Ux"
      }
    },
    {
      "cell_type": "markdown",
      "source": [
        "**Analysis of our target column**"
      ],
      "metadata": {
        "id": "noYap913L0Ux"
      }
    },
    {
      "cell_type": "markdown",
      "source": [
        "***1 Checking imbalance in data***"
      ],
      "metadata": {
        "id": "NacLexKWL0Ux"
      }
    },
    {
      "cell_type": "code",
      "source": [
        "# Finding % of people with deliquent and not deliquent\n",
        "\n",
        "target_0_percentage = (round (len(df_train.query('EverDelinquent==\"0\"'))/len(df_train),4)) * 100\n",
        "print (\"Target_0_percentage:\", target_0_percentage,\"%\")\n",
        "\n",
        "target_1_percentage = (round (len(df_train.query('EverDelinquent==\"1\"'))/len(df_train),4)) * 100\n",
        "print (\"Target_1_percentage:\", target_1_percentage,\"%\")"
      ],
      "metadata": {
        "execution": {
          "iopub.status.busy": "2023-02-26T04:18:46.023162Z",
          "iopub.execute_input": "2023-02-26T04:18:46.023566Z",
          "iopub.status.idle": "2023-02-26T04:18:46.125955Z",
          "shell.execute_reply.started": "2023-02-26T04:18:46.023534Z",
          "shell.execute_reply": "2023-02-26T04:18:46.124344Z"
        },
        "trusted": true,
        "id": "Jw_dDDueL0Ux",
        "outputId": "37ba3c57-a1b7-412e-c380-c292024546a6",
        "colab": {
          "base_uri": "https://localhost:8080/"
        }
      },
      "execution_count": null,
      "outputs": [
        {
          "output_type": "stream",
          "name": "stdout",
          "text": [
            "Target_0_percentage: 80.22 %\n",
            "Target_1_percentage: 19.78 %\n"
          ]
        }
      ]
    },
    {
      "cell_type": "markdown",
      "source": [
        "**As the percentage of 0 and 1 are different, there is an imbalance**"
      ],
      "metadata": {
        "id": "3lQlygO7L0Uy"
      }
    },
    {
      "cell_type": "markdown",
      "source": [
        "*Creation of two data sets - one for each Target = 1 and Target = 0*"
      ],
      "metadata": {
        "id": "vSThuecTL0Uy"
      }
    },
    {
      "cell_type": "code",
      "source": [
        " # Creating Dataframe of the non-defaulters  \n",
        "deliquent_0_df = df_train.query('EverDelinquent==\"0\"')\n",
        "deliquent_1_df = df_train.query('EverDelinquent==\"1\"')"
      ],
      "metadata": {
        "execution": {
          "iopub.status.busy": "2023-02-26T04:18:46.136425Z",
          "iopub.execute_input": "2023-02-26T04:18:46.136863Z",
          "iopub.status.idle": "2023-02-26T04:18:46.226822Z",
          "shell.execute_reply.started": "2023-02-26T04:18:46.136832Z",
          "shell.execute_reply": "2023-02-26T04:18:46.225475Z"
        },
        "trusted": true,
        "id": "vP50F-hPL0Uy"
      },
      "execution_count": null,
      "outputs": []
    },
    {
      "cell_type": "code",
      "source": [
        "print(deliquent_0_df.shape)\n",
        "print(deliquent_1_df.shape)"
      ],
      "metadata": {
        "execution": {
          "iopub.status.busy": "2023-02-26T04:18:46.228373Z",
          "iopub.execute_input": "2023-02-26T04:18:46.229003Z",
          "iopub.status.idle": "2023-02-26T04:18:46.236399Z",
          "shell.execute_reply.started": "2023-02-26T04:18:46.228953Z",
          "shell.execute_reply": "2023-02-26T04:18:46.235159Z"
        },
        "trusted": true,
        "id": "AWsiuP9gL0Uy",
        "outputId": "2f400533-7111-46fa-994b-695cb0ff0519",
        "colab": {
          "base_uri": "https://localhost:8080/"
        }
      },
      "execution_count": null,
      "outputs": [
        {
          "output_type": "stream",
          "name": "stdout",
          "text": [
            "(233788, 20)\n",
            "(57663, 20)\n"
          ]
        }
      ]
    },
    {
      "cell_type": "code",
      "source": [
        " categoricalcolumns=[]\n",
        " numericalcolumns=[]\n",
        " for i in df_train.columns:\n",
        "   if df_train[i].dtypes==object:\n",
        "      categoricalcolumns.append(i)\n",
        "   else:\n",
        "      numericalcolumns.append(i)\n",
        "print(numericalcolumns) \n",
        "print(categoricalcolumns)"
      ],
      "metadata": {
        "execution": {
          "iopub.status.busy": "2023-02-26T04:18:46.238346Z",
          "iopub.execute_input": "2023-02-26T04:18:46.238875Z",
          "iopub.status.idle": "2023-02-26T04:18:46.261303Z",
          "shell.execute_reply.started": "2023-02-26T04:18:46.238826Z",
          "shell.execute_reply": "2023-02-26T04:18:46.259401Z"
        },
        "trusted": true,
        "id": "3E0xlu2IL0Uy",
        "outputId": "467d49fd-e20d-4892-b8d9-a588e94ef503",
        "colab": {
          "base_uri": "https://localhost:8080/"
        }
      },
      "execution_count": null,
      "outputs": [
        {
          "output_type": "stream",
          "name": "stdout",
          "text": [
            "['CreditScore', 'MIP', 'Units', 'OCLTV', 'DTI', 'OrigUPB', 'LTV', 'OrigInterestRate', 'OrigLoanTerm', 'MonthsDelinquent', 'MonthsInRepayment']\n",
            "['FirstTimeHomebuyer', 'Occupancy', 'Channel', 'PPM', 'ProductType', 'PropertyType', 'LoanPurpose', 'NumBorrowers', 'EverDelinquent']\n"
          ]
        }
      ]
    },
    {
      "cell_type": "code",
      "source": [
        "categoricalcolumns.remove('EverDelinquent')"
      ],
      "metadata": {
        "execution": {
          "iopub.status.busy": "2023-02-26T04:18:46.263969Z",
          "iopub.execute_input": "2023-02-26T04:18:46.264564Z",
          "iopub.status.idle": "2023-02-26T04:18:46.279372Z",
          "shell.execute_reply.started": "2023-02-26T04:18:46.264522Z",
          "shell.execute_reply": "2023-02-26T04:18:46.277776Z"
        },
        "trusted": true,
        "id": "R2pyn9a1L0Uy"
      },
      "execution_count": null,
      "outputs": []
    },
    {
      "cell_type": "markdown",
      "source": [
        "*** Univariate Analysis for categorical variable***"
      ],
      "metadata": {
        "id": "sOPo5cxyL0Uy"
      }
    },
    {
      "cell_type": "markdown",
      "source": [
        "*Under univariate analysis, we will look at percentage distribution of values of categorial variable*"
      ],
      "metadata": {
        "id": "FuuUU325L0Uy"
      }
    },
    {
      "cell_type": "code",
      "source": [
        "#loop for performing univariate analysis\n",
        "for i in categoricalcolumns:\n",
        "    plt.figure(figsize=(5,5))\n",
        "    plt.subplot(1,2,1)\n",
        "    deliquent_0_df[i].value_counts(normalize=True).plot.bar()\n",
        "    plt.title(i+ '- deliquent = 0')\n",
        "    plt.subplot(1,2,2)\n",
        "    deliquent_1_df[i].value_counts(normalize=True).plot.bar()\n",
        "    plt.title(i+ '- deliquent = 1')"
      ],
      "metadata": {
        "execution": {
          "iopub.status.busy": "2023-02-26T04:18:46.281114Z",
          "iopub.execute_input": "2023-02-26T04:18:46.281609Z",
          "iopub.status.idle": "2023-02-26T04:18:49.226098Z",
          "shell.execute_reply.started": "2023-02-26T04:18:46.281571Z",
          "shell.execute_reply": "2023-02-26T04:18:49.224811Z"
        },
        "trusted": true,
        "id": "wMJ7qtUbL0Uy",
        "outputId": "7fffbf65-8782-486f-bcd4-534384cb7f44",
        "colab": {
          "base_uri": "https://localhost:8080/",
          "height": 1000
        }
      },
      "execution_count": null,
      "outputs": [
        {
          "output_type": "display_data",
          "data": {
            "text/plain": [
              "<Figure size 360x360 with 2 Axes>"
            ],
            "image/png": "[encoded data removed]"
          },
          "metadata": {
            "needs_background": "light"
          }
        },
        {
          "output_type": "display_data",
          "data": {
            "text/plain": [
              "<Figure size 360x360 with 2 Axes>"
            ],
            "image/png": "[encoded data removed]"
          },
          "metadata": {
            "needs_background": "light"
          }
        },
        {
          "output_type": "display_data",
          "data": {
            "text/plain": [
              "<Figure size 360x360 with 2 Axes>"
            ],
            "image/png": "[encoded data removed]"
          },
          "metadata": {
            "needs_background": "light"
          }
        },
        {
          "output_type": "display_data",
          "data": {
            "text/plain": [
              "<Figure size 360x360 with 2 Axes>"
            ],
            "image/png": "[encoded data removed]"
          },
          "metadata": {
            "needs_background": "light"
          }
        },
        {
          "output_type": "display_data",
          "data": {
            "text/plain": [
              "<Figure size 360x360 with 2 Axes>"
            ],
            "image/png": "[encoded data removed]"
          },
          "metadata": {
            "needs_background": "light"
          }
        },
        {
          "output_type": "display_data",
          "data": {
            "text/plain": [
              "<Figure size 360x360 with 2 Axes>"
            ],
            "image/png": "[encoded data removed]"
          },
          "metadata": {
            "needs_background": "light"
          }
        },
        {
          "output_type": "display_data",
          "data": {
            "text/plain": [
              "<Figure size 360x360 with 2 Axes>"
            ],
            "image/png": "[encoded data removed]"
          },
          "metadata": {
            "needs_background": "light"
          }
        },
        {
          "output_type": "display_data",
          "data": {
            "text/plain": [
              "<Figure size 360x360 with 2 Axes>"
            ],
            "image/png": "[encoded data removed]"
          },
          "metadata": {
            "needs_background": "light"
          }
        }
      ]
    },
    {
      "cell_type": "markdown",
      "source": [
        "#highlights from the plot \n",
        "1)**num of borrowers are more for target 1 deliquent which means persons who are deliquate has borrowed from one source**\n",
        "2**even in loan purpose the category c are deliqueating more in case of target 1**\n",
        "3)**even in channel  the category traditional mortgage are deliqueating more in case of target 1**"
      ],
      "metadata": {
        "id": "IdiKyWrTL0Uy"
      }
    },
    {
      "cell_type": "code",
      "source": [
        "#lets plot heatmaps"
      ],
      "metadata": {
        "execution": {
          "iopub.status.busy": "2023-02-26T04:18:49.228677Z",
          "iopub.execute_input": "2023-02-26T04:18:49.229063Z",
          "iopub.status.idle": "2023-02-26T04:18:49.234041Z",
          "shell.execute_reply.started": "2023-02-26T04:18:49.229031Z",
          "shell.execute_reply": "2023-02-26T04:18:49.232823Z"
        },
        "trusted": true,
        "id": "pSri9leeL0Uy"
      },
      "execution_count": null,
      "outputs": []
    },
    {
      "cell_type": "code",
      "source": [
        "plt.figure(figsize=(10,10))\n",
        "sns.heatmap(df_train.corr(),annot=True)"
      ],
      "metadata": {
        "execution": {
          "iopub.status.busy": "2023-02-26T04:18:49.235846Z",
          "iopub.execute_input": "2023-02-26T04:18:49.236240Z",
          "iopub.status.idle": "2023-02-26T04:18:50.332720Z",
          "shell.execute_reply.started": "2023-02-26T04:18:49.236204Z",
          "shell.execute_reply": "2023-02-26T04:18:50.331512Z"
        },
        "trusted": true,
        "id": "NDw6r5t-L0Uz",
        "outputId": "8065657a-1295-43f3-bf9e-879be62d9d93",
        "colab": {
          "base_uri": "https://localhost:8080/",
          "height": 705
        }
      },
      "execution_count": null,
      "outputs": [
        {
          "output_type": "execute_result",
          "data": {
            "text/plain": [
              "<AxesSubplot:>"
            ]
          },
          "metadata": {},
          "execution_count": 36
        },
        {
          "output_type": "display_data",
          "data": {
            "text/plain": [
              "<Figure size 720x720 with 2 Axes>"
            ],
            "image/png": "[encoded data removed]"
          },
          "metadata": {
            "needs_background": "light"
          }
        }
      ]
    },
    {
      "cell_type": "code",
      "source": [
        "plt.figure(figsize=(20,8))\n",
        "plt.subplot(1,2,1)\n",
        "sns.heatmap(deliquent_0_df[numericalcolumns].corr(),annot=True)\n",
        "b, t = plt.ylim() # discover the values for bottom and top\n",
        "b += 0.5 # Add 0.5 to the bottom\n",
        "t -= 0.5 # Subtract 0.5 from the top\n",
        "plt.ylim(b, t) # update the ylim(bottom, top) values\n",
        "plt.yticks(rotation = 0)\n",
        "plt.title('heatmap- Target = 0')\n",
        "plt.subplot(1,2,2)\n",
        "sns.heatmap(deliquent_0_df[numericalcolumns].corr(),annot=True,)\n",
        "plt.title('heatmap- Target = 1')\n"
      ],
      "metadata": {
        "execution": {
          "iopub.status.busy": "2023-02-26T04:18:50.334324Z",
          "iopub.execute_input": "2023-02-26T04:18:50.336170Z",
          "iopub.status.idle": "2023-02-26T04:18:52.555227Z",
          "shell.execute_reply.started": "2023-02-26T04:18:50.336018Z",
          "shell.execute_reply": "2023-02-26T04:18:52.553955Z"
        },
        "trusted": true,
        "id": "eRbMGA4hL0Uz",
        "outputId": "026faa31-bd54-4106-a077-4a78673cbccb",
        "colab": {
          "base_uri": "https://localhost:8080/",
          "height": 420
        }
      },
      "execution_count": null,
      "outputs": [
        {
          "output_type": "execute_result",
          "data": {
            "text/plain": [
              "Text(0.5, 1.0, 'heatmap- Target = 1')"
            ]
          },
          "metadata": {},
          "execution_count": 37
        },
        {
          "output_type": "display_data",
          "data": {
            "text/plain": [
              "<Figure size 1440x576 with 4 Axes>"
            ],
            "image/png": "[encoded data removed]"
          },
          "metadata": {
            "needs_background": "light"
          }
        }
      ]
    },
    {
      "cell_type": "markdown",
      "source": [
        "Through the heatmap we can see same set of columns seem to have a high correlation across all three data sets. Top correlate colums are:\n",
        "ltv vs mip \n",
        "ltv,ocltv vs credit score\n",
        "ltv vs ocltv\n"
      ],
      "metadata": {
        "id": "XEpRib_hL0Uz"
      }
    },
    {
      "cell_type": "code",
      "source": [
        "#now we have to select best feautures for model building but we will first try to build model using all the features\n"
      ],
      "metadata": {
        "execution": {
          "iopub.status.busy": "2023-02-26T04:18:52.556798Z",
          "iopub.execute_input": "2023-02-26T04:18:52.557172Z",
          "iopub.status.idle": "2023-02-26T04:18:52.562946Z",
          "shell.execute_reply.started": "2023-02-26T04:18:52.557139Z",
          "shell.execute_reply": "2023-02-26T04:18:52.561536Z"
        },
        "trusted": true,
        "id": "asikoWyrL0Uz"
      },
      "execution_count": null,
      "outputs": []
    },
    {
      "cell_type": "code",
      "source": [
        "for i in categoricalcolumns:\n",
        "    print(i,df_train[i].nunique())"
      ],
      "metadata": {
        "execution": {
          "iopub.status.busy": "2023-02-26T04:20:33.720941Z",
          "iopub.execute_input": "2023-02-26T04:20:33.721422Z",
          "iopub.status.idle": "2023-02-26T04:20:33.895996Z",
          "shell.execute_reply.started": "2023-02-26T04:20:33.721388Z",
          "shell.execute_reply": "2023-02-26T04:20:33.894358Z"
        },
        "trusted": true,
        "id": "GFB6XE_KL0Uz",
        "outputId": "c229cae2-7ab8-45b3-a64f-7c6810793932",
        "colab": {
          "base_uri": "https://localhost:8080/"
        }
      },
      "execution_count": null,
      "outputs": [
        {
          "output_type": "stream",
          "name": "stdout",
          "text": [
            "FirstTimeHomebuyer 2\n",
            "Occupancy 3\n",
            "Channel 2\n",
            "PPM 3\n",
            "ProductType 1\n",
            "PropertyType 7\n",
            "LoanPurpose 3\n",
            "NumBorrowers 3\n"
          ]
        }
      ]
    },
    {
      "cell_type": "code",
      "source": [
        "categoricalcolumnsle=[\"FirstTimeHomebuyer\",\"Channel\",\"ProductType\",]"
      ],
      "metadata": {
        "execution": {
          "iopub.status.busy": "2023-02-26T04:23:45.506863Z",
          "iopub.execute_input": "2023-02-26T04:23:45.507769Z",
          "iopub.status.idle": "2023-02-26T04:23:45.516682Z",
          "shell.execute_reply.started": "2023-02-26T04:23:45.507692Z",
          "shell.execute_reply": "2023-02-26T04:23:45.514531Z"
        },
        "trusted": true,
        "id": "7zl3CijwL0Uz"
      },
      "execution_count": null,
      "outputs": []
    },
    {
      "cell_type": "code",
      "source": [
        "#function for labelencoder:\n",
        "def label_encode(column):\n",
        "  label={}\n",
        "  encodedcolumn=[]\n",
        "  for i in column:\n",
        "    if i not in label:\n",
        "      label[i]=len(label)\n",
        "      encodedcolumn.append(label[i])\n",
        "  return label,encodedcolumn    "
      ],
      "metadata": {
        "id": "o6bjVO9DcW9A"
      },
      "execution_count": null,
      "outputs": []
    },
    {
      "cell_type": "code",
      "source": [
        "print(label_encode(df_train[\"FirstTimeHomebuyer\"]))\n",
        "print(label_encode(df_train[\"Channel\"]))\n",
        "print(label_encode(df_train[\"ProductType\"]))"
      ],
      "metadata": {
        "colab": {
          "base_uri": "https://localhost:8080/"
        },
        "id": "VO0e3Fo3nMfo",
        "outputId": "e8139dfa-eac7-4dfe-8377-32685cbe1c9f"
      },
      "execution_count": null,
      "outputs": [
        {
          "output_type": "stream",
          "name": "stdout",
          "text": [
            "({'NO': 0, 'YES': 1}, [0, 1])\n",
            "({'Traditional Mortgage': 0, 'Retail banking': 1}, [0, 1])\n",
            "({'FRM  ': 0}, [0])\n"
          ]
        }
      ]
    },
    {
      "cell_type": "code",
      "source": [
        "from sklearn.preprocessing import LabelEncoder\n",
        "le = LabelEncoder()\n",
        "for i in categoricalcolumnsle:\n",
        "    df_train[i] = le.fit_transform(df_train[i])"
      ],
      "metadata": {
        "execution": {
          "iopub.status.busy": "2023-02-26T04:23:50.715977Z",
          "iopub.execute_input": "2023-02-26T04:23:50.716465Z",
          "iopub.status.idle": "2023-02-26T04:23:51.074244Z",
          "shell.execute_reply.started": "2023-02-26T04:23:50.716406Z",
          "shell.execute_reply": "2023-02-26T04:23:51.072892Z"
        },
        "trusted": true,
        "id": "NRmNlyR0L0Uz"
      },
      "execution_count": null,
      "outputs": []
    },
    {
      "cell_type": "code",
      "source": [
        "df_train= pd.get_dummies(df_train, columns=['Occupancy',\n",
        " 'PPM',\n",
        " 'PropertyType',\n",
        " 'LoanPurpose',\n",
        " 'NumBorrowers'],drop_first=True)"
      ],
      "metadata": {
        "execution": {
          "iopub.status.busy": "2023-02-26T04:24:50.429044Z",
          "iopub.execute_input": "2023-02-26T04:24:50.430073Z",
          "iopub.status.idle": "2023-02-26T04:24:50.629788Z",
          "shell.execute_reply.started": "2023-02-26T04:24:50.430035Z",
          "shell.execute_reply": "2023-02-26T04:24:50.628467Z"
        },
        "trusted": true,
        "id": "ttZlwGZFL0U0"
      },
      "execution_count": null,
      "outputs": []
    },
    {
      "cell_type": "markdown",
      "source": [
        "get dummies mean we will get different for train and test data,so one hot encoding is simpler."
      ],
      "metadata": {
        "id": "D30pgk8Jb_oe"
      }
    },
    {
      "cell_type": "code",
      "source": [
        "#Normalizing and Scaling( Numerical Variables)\n",
        "from sklearn.preprocessing import StandardScaler\n",
        "#from sklearn.preprocessing import MinMaxScaler"
      ],
      "metadata": {
        "execution": {
          "iopub.status.busy": "2023-02-26T04:26:54.068927Z",
          "iopub.execute_input": "2023-02-26T04:26:54.069410Z",
          "iopub.status.idle": "2023-02-26T04:26:54.075581Z",
          "shell.execute_reply.started": "2023-02-26T04:26:54.069377Z",
          "shell.execute_reply": "2023-02-26T04:26:54.074295Z"
        },
        "trusted": true,
        "id": "6O8H2TBKL0U0"
      },
      "execution_count": null,
      "outputs": []
    },
    {
      "cell_type": "code",
      "source": [
        "std_scale=StandardScaler()\n",
        "std_scale\n"
      ],
      "metadata": {
        "execution": {
          "iopub.status.busy": "2023-02-26T04:30:54.171787Z",
          "iopub.execute_input": "2023-02-26T04:30:54.172804Z",
          "iopub.status.idle": "2023-02-26T04:30:54.181485Z",
          "shell.execute_reply.started": "2023-02-26T04:30:54.172756Z",
          "shell.execute_reply": "2023-02-26T04:30:54.180159Z"
        },
        "trusted": true,
        "id": "ddWTuGS1L0U0",
        "colab": {
          "base_uri": "https://localhost:8080/",
          "height": 74
        },
        "outputId": "6b4b670f-74c5-47db-c41d-d2d20841991d"
      },
      "execution_count": null,
      "outputs": [
        {
          "output_type": "execute_result",
          "data": {
            "text/plain": [
              "StandardScaler()"
            ],
            "text/html": [
              "<style>#sk-container-id-1 {color: black;background-color: white;}#sk-container-id-1 pre{padding: 0;}#sk-container-id-1 div.sk-toggleable {background-color: white;}#sk-container-id-1 label.sk-toggleable__label {cursor: pointer;display: block;width: 100%;margin-bottom: 0;padding: 0.3em;box-sizing: border-box;text-align: center;}#sk-container-id-1 label.sk-toggleable__label-arrow:before {content: \"▸\";float: left;margin-right: 0.25em;color: #696969;}#sk-container-id-1 label.sk-toggleable__label-arrow:hover:before {color: black;}#sk-container-id-1 div.sk-estimator:hover label.sk-toggleable__label-arrow:before {color: black;}#sk-container-id-1 div.sk-toggleable__content {max-height: 0;max-width: 0;overflow: hidden;text-align: left;background-color: #f0f8ff;}#sk-container-id-1 div.sk-toggleable__content pre {margin: 0.2em;color: black;border-radius: 0.25em;background-color: #f0f8ff;}#sk-container-id-1 input.sk-toggleable__control:checked~div.sk-toggleable__content {max-height: 200px;max-width: 100%;overflow: auto;}#sk-container-id-1 input.sk-toggleable__control:checked~label.sk-toggleable__label-arrow:before {content: \"▾\";}#sk-container-id-1 div.sk-estimator input.sk-toggleable__control:checked~label.sk-toggleable__label {background-color: #d4ebff;}#sk-container-id-1 div.sk-label input.sk-toggleable__control:checked~label.sk-toggleable__label {background-color: #d4ebff;}#sk-container-id-1 input.sk-hidden--visually {border: 0;clip: rect(1px 1px 1px 1px);clip: rect(1px, 1px, 1px, 1px);height: 1px;margin: -1px;overflow: hidden;padding: 0;position: absolute;width: 1px;}#sk-container-id-1 div.sk-estimator {font-family: monospace;background-color: #f0f8ff;border: 1px dotted black;border-radius: 0.25em;box-sizing: border-box;margin-bottom: 0.5em;}#sk-container-id-1 div.sk-estimator:hover {background-color: #d4ebff;}#sk-container-id-1 div.sk-parallel-item::after {content: \"\";width: 100%;border-bottom: 1px solid gray;flex-grow: 1;}#sk-container-id-1 div.sk-label:hover label.sk-toggleable__label {background-color: #d4ebff;}#sk-container-id-1 div.sk-serial::before {content: \"\";position: absolute;border-left: 1px solid gray;box-sizing: border-box;top: 0;bottom: 0;left: 50%;z-index: 0;}#sk-container-id-1 div.sk-serial {display: flex;flex-direction: column;align-items: center;background-color: white;padding-right: 0.2em;padding-left: 0.2em;position: relative;}#sk-container-id-1 div.sk-item {position: relative;z-index: 1;}#sk-container-id-1 div.sk-parallel {display: flex;align-items: stretch;justify-content: center;background-color: white;position: relative;}#sk-container-id-1 div.sk-item::before, #sk-container-id-1 div.sk-parallel-item::before {content: \"\";position: absolute;border-left: 1px solid gray;box-sizing: border-box;top: 0;bottom: 0;left: 50%;z-index: -1;}#sk-container-id-1 div.sk-parallel-item {display: flex;flex-direction: column;z-index: 1;position: relative;background-color: white;}#sk-container-id-1 div.sk-parallel-item:first-child::after {align-self: flex-end;width: 50%;}#sk-container-id-1 div.sk-parallel-item:last-child::after {align-self: flex-start;width: 50%;}#sk-container-id-1 div.sk-parallel-item:only-child::after {width: 0;}#sk-container-id-1 div.sk-dashed-wrapped {border: 1px dashed gray;margin: 0 0.4em 0.5em 0.4em;box-sizing: border-box;padding-bottom: 0.4em;background-color: white;}#sk-container-id-1 div.sk-label label {font-family: monospace;font-weight: bold;display: inline-block;line-height: 1.2em;}#sk-container-id-1 div.sk-label-container {text-align: center;}#sk-container-id-1 div.sk-container {/* jupyter's `normalize.less` sets `[hidden] { display: none; }` but bootstrap.min.css set `[hidden] { display: none !important; }` so we also need the `!important` here to be able to override the default hidden behavior on the sphinx rendered scikit-learn.org. See: https://github.com/scikit-learn/scikit-learn/issues/21755 */display: inline-block !important;position: relative;}#sk-container-id-1 div.sk-text-repr-fallback {display: none;}</style><div id=\"sk-container-id-1\" class=\"sk-top-container\"><div class=\"sk-text-repr-fallback\"><pre>StandardScaler()</pre><b>In a Jupyter environment, please rerun this cell to show the HTML representation or trust the notebook. <br />On GitHub, the HTML representation is unable to render, please try loading this page with nbviewer.org.</b></div><div class=\"sk-container\" hidden><div class=\"sk-item\"><div class=\"sk-estimator sk-toggleable\"><input class=\"sk-toggleable__control sk-hidden--visually\" id=\"sk-estimator-id-1\" type=\"checkbox\" checked><label for=\"sk-estimator-id-1\" class=\"sk-toggleable__label sk-toggleable__label-arrow\">StandardScaler</label><div class=\"sk-toggleable__content\"><pre>StandardScaler()</pre></div></div></div></div></div>"
            ]
          },
          "metadata": {},
          "execution_count": 46
        }
      ]
    },
    {
      "cell_type": "code",
      "source": [
        "df_train[\"EverDelinquent\"]=df_train[\"EverDelinquent\"].astype(\"int\")"
      ],
      "metadata": {
        "execution": {
          "iopub.status.busy": "2023-02-26T04:30:56.391773Z",
          "iopub.execute_input": "2023-02-26T04:30:56.392190Z",
          "iopub.status.idle": "2023-02-26T04:30:56.400032Z",
          "shell.execute_reply.started": "2023-02-26T04:30:56.392156Z",
          "shell.execute_reply": "2023-02-26T04:30:56.398547Z"
        },
        "trusted": true,
        "id": "bXd_KBavL0U0"
      },
      "execution_count": null,
      "outputs": []
    },
    {
      "cell_type": "code",
      "source": [
        "for i in numericalcolumns:\n",
        "    df_train[i]=std_scale.fit_transform(df_train[[i]])"
      ],
      "metadata": {
        "execution": {
          "iopub.status.busy": "2023-02-26T04:27:03.282825Z",
          "iopub.execute_input": "2023-02-26T04:27:03.283999Z",
          "iopub.status.idle": "2023-02-26T04:27:03.437782Z",
          "shell.execute_reply.started": "2023-02-26T04:27:03.283939Z",
          "shell.execute_reply": "2023-02-26T04:27:03.436594Z"
        },
        "trusted": true,
        "id": "bwoTBFAML0U0"
      },
      "execution_count": null,
      "outputs": []
    },
    {
      "cell_type": "code",
      "source": [
        "X= df_train.drop([\"EverDelinquent\"],axis=1)\n",
        "y= df_train[\"EverDelinquent\"]\n",
        "print(X.shape)"
      ],
      "metadata": {
        "execution": {
          "iopub.status.busy": "2023-02-26T04:27:07.192070Z",
          "iopub.execute_input": "2023-02-26T04:27:07.192610Z",
          "iopub.status.idle": "2023-02-26T04:27:07.223651Z",
          "shell.execute_reply.started": "2023-02-26T04:27:07.192568Z",
          "shell.execute_reply": "2023-02-26T04:27:07.222244Z"
        },
        "trusted": true,
        "id": "qQ3-QSi4L0U0",
        "colab": {
          "base_uri": "https://localhost:8080/"
        },
        "outputId": "d7c4ad42-56f0-4efd-a948-e25e5596a28c"
      },
      "execution_count": null,
      "outputs": [
        {
          "output_type": "stream",
          "name": "stdout",
          "text": [
            "(291451, 28)\n"
          ]
        }
      ]
    },
    {
      "cell_type": "code",
      "source": [
        "from sklearn.model_selection import train_test_split\n",
        "X_train, X_test, y_train, y_test = train_test_split(X, y, test_size=0.33, random_state=42,stratify=y)"
      ],
      "metadata": {
        "execution": {
          "iopub.status.busy": "2023-02-26T04:31:02.743632Z",
          "iopub.execute_input": "2023-02-26T04:31:02.744109Z",
          "iopub.status.idle": "2023-02-26T04:31:02.920603Z",
          "shell.execute_reply.started": "2023-02-26T04:31:02.744069Z",
          "shell.execute_reply": "2023-02-26T04:31:02.919330Z"
        },
        "trusted": true,
        "id": "UtV7msXvL0U0"
      },
      "execution_count": null,
      "outputs": []
    },
    {
      "cell_type": "code",
      "source": [
        "print(X_train.shape)\n",
        "print(X_test.shape)"
      ],
      "metadata": {
        "execution": {
          "iopub.status.busy": "2023-02-26T04:31:04.681208Z",
          "iopub.execute_input": "2023-02-26T04:31:04.681658Z",
          "iopub.status.idle": "2023-02-26T04:31:04.688836Z",
          "shell.execute_reply.started": "2023-02-26T04:31:04.681625Z",
          "shell.execute_reply": "2023-02-26T04:31:04.686999Z"
        },
        "trusted": true,
        "id": "Sr-IINgJL0U0",
        "colab": {
          "base_uri": "https://localhost:8080/"
        },
        "outputId": "6eedfb46-5ade-44b7-84f0-60f22c65a864"
      },
      "execution_count": null,
      "outputs": [
        {
          "output_type": "stream",
          "name": "stdout",
          "text": [
            "(195272, 28)\n",
            "(96179, 28)\n"
          ]
        }
      ]
    },
    {
      "cell_type": "code",
      "source": [
        "ddd"
      ],
      "metadata": {
        "colab": {
          "base_uri": "https://localhost:8080/",
          "height": 166
        },
        "id": "hhMeFHwres-t",
        "outputId": "419ee8e2-da48-4e03-afef-f32e936b08a9"
      },
      "execution_count": null,
      "outputs": [
        {
          "output_type": "error",
          "ename": "NameError",
          "evalue": "ignored",
          "traceback": [
            "\u001b[0;31m---------------------------------------------------------------------------\u001b[0m",
            "\u001b[0;31mNameError\u001b[0m                                 Traceback (most recent call last)",
            "\u001b[0;32m<ipython-input-52-fb145a0fef0c>\u001b[0m in \u001b[0;36m<module>\u001b[0;34m\u001b[0m\n\u001b[0;32m----> 1\u001b[0;31m \u001b[0mddd\u001b[0m\u001b[0;34m\u001b[0m\u001b[0;34m\u001b[0m\u001b[0m\n\u001b[0m",
            "\u001b[0;31mNameError\u001b[0m: name 'ddd' is not defined"
          ]
        }
      ]
    },
    {
      "cell_type": "code",
      "source": [
        "# Define the perceptron class\n",
        "class Perceptron:\n",
        "    def __init__(self, learning_rate=0.1):\n",
        "        self.learning_rate = learning_rate\n",
        "        self.weights = None\n",
        "        self.bias = None\n",
        "\n",
        "    def fit(self, X, y, epochs=100):\n",
        "        # Initialize the weights and bias\n",
        "        self.weights = np.zeros(X.shape[1])\n",
        "        self.bias = 0\n",
        "\n",
        "        for epoch in range(epochs):\n",
        "            for i in range(X.shape[0]):\n",
        "                # Calculate the predicted output\n",
        "                y_pred = self.predict(X[i])\n",
        "\n",
        "                # Update the weights and bias\n",
        "                self.weights += self.learning_rate * (y[i] - y_pred) * X[i]\n",
        "                self.bias += self.learning_rate * (y[i] - y_pred)\n",
        "\n",
        "    def predict(self, X):\n",
        "        # Calculate the dot product of the input and weights, add the bias, and pass through the activation function\n",
        "        linear_output = np.dot(X, self.weights) + self.bias\n",
        "        activation_output = self.activation(linear_output)\n",
        "        \n",
        "        # Return the predicted output\n",
        "        return activation_output\n",
        "\n",
        "    def activation(self, x):\n",
        "        # Use the sigmoid activation function\n",
        "        return 1 / (1 + np.exp(-x))\n",
        "\n",
        "# Create an instance of the perceptron and fit the data\n",
        "perceptron1 = Perceptron()\n",
        "perceptron1.fit(X_train, y_train)\n",
        "\n",
        "# Make predictions on the training and test data\n",
        "trainpreds = perceptron1.predict(X_train) > 0.5\n",
        "testpreds = perceptron1.predict(X_test) > 0.5\n",
        "\n",
        "# Print the accuracy scores\n",
        "print(\"train-\", accuracy_score(y_train, trainpreds), \"test-\", accuracy_score(y_test, testpreds))\n"
      ],
      "metadata": {
        "colab": {
          "base_uri": "https://localhost:8080/",
          "height": 537
        },
        "id": "UJ4DTA5rgIKA",
        "outputId": "f47cdbf0-c441-4fa7-b1d4-aeb69a67c1b6"
      },
      "execution_count": null,
      "outputs": [
        {
          "output_type": "error",
          "ename": "KeyError",
          "evalue": "ignored",
          "traceback": [
            "\u001b[0;31m---------------------------------------------------------------------------\u001b[0m",
            "\u001b[0;31mKeyError\u001b[0m                                  Traceback (most recent call last)",
            "\u001b[0;32m/usr/local/lib/python3.9/dist-packages/pandas/core/indexes/base.py\u001b[0m in \u001b[0;36mget_loc\u001b[0;34m(self, key, method, tolerance)\u001b[0m\n\u001b[1;32m   3628\u001b[0m             \u001b[0;32mtry\u001b[0m\u001b[0;34m:\u001b[0m\u001b[0;34m\u001b[0m\u001b[0;34m\u001b[0m\u001b[0m\n\u001b[0;32m-> 3629\u001b[0;31m                 \u001b[0;32mreturn\u001b[0m \u001b[0mself\u001b[0m\u001b[0;34m.\u001b[0m\u001b[0m_engine\u001b[0m\u001b[0;34m.\u001b[0m\u001b[0mget_loc\u001b[0m\u001b[0;34m(\u001b[0m\u001b[0mcasted_key\u001b[0m\u001b[0;34m)\u001b[0m\u001b[0;34m\u001b[0m\u001b[0;34m\u001b[0m\u001b[0m\n\u001b[0m\u001b[1;32m   3630\u001b[0m             \u001b[0;32mexcept\u001b[0m \u001b[0mKeyError\u001b[0m \u001b[0;32mas\u001b[0m \u001b[0merr\u001b[0m\u001b[0;34m:\u001b[0m\u001b[0;34m\u001b[0m\u001b[0;34m\u001b[0m\u001b[0m\n",
            "\u001b[0;32m/usr/local/lib/python3.9/dist-packages/pandas/_libs/index.pyx\u001b[0m in \u001b[0;36mpandas._libs.index.IndexEngine.get_loc\u001b[0;34m()\u001b[0m\n",
            "\u001b[0;32m/usr/local/lib/python3.9/dist-packages/pandas/_libs/index.pyx\u001b[0m in \u001b[0;36mpandas._libs.index.IndexEngine.get_loc\u001b[0;34m()\u001b[0m\n",
            "\u001b[0;32mpandas/_libs/hashtable_class_helper.pxi\u001b[0m in \u001b[0;36mpandas._libs.hashtable.PyObjectHashTable.get_item\u001b[0;34m()\u001b[0m\n",
            "\u001b[0;32mpandas/_libs/hashtable_class_helper.pxi\u001b[0m in \u001b[0;36mpandas._libs.hashtable.PyObjectHashTable.get_item\u001b[0;34m()\u001b[0m\n",
            "\u001b[0;31mKeyError\u001b[0m: 0",
            "\nThe above exception was the direct cause of the following exception:\n",
            "\u001b[0;31mKeyError\u001b[0m                                  Traceback (most recent call last)",
            "\u001b[0;32m<ipython-input-55-8211dab7b173>\u001b[0m in \u001b[0;36m<module>\u001b[0;34m\u001b[0m\n\u001b[1;32m     34\u001b[0m \u001b[0;31m# Create an instance of the perceptron and fit the data\u001b[0m\u001b[0;34m\u001b[0m\u001b[0;34m\u001b[0m\u001b[0m\n\u001b[1;32m     35\u001b[0m \u001b[0mperceptron1\u001b[0m \u001b[0;34m=\u001b[0m \u001b[0mPerceptron\u001b[0m\u001b[0;34m(\u001b[0m\u001b[0;34m)\u001b[0m\u001b[0;34m\u001b[0m\u001b[0;34m\u001b[0m\u001b[0m\n\u001b[0;32m---> 36\u001b[0;31m \u001b[0mperceptron1\u001b[0m\u001b[0;34m.\u001b[0m\u001b[0mfit\u001b[0m\u001b[0;34m(\u001b[0m\u001b[0mX_train\u001b[0m\u001b[0;34m,\u001b[0m \u001b[0my_train\u001b[0m\u001b[0;34m)\u001b[0m\u001b[0;34m\u001b[0m\u001b[0;34m\u001b[0m\u001b[0m\n\u001b[0m\u001b[1;32m     37\u001b[0m \u001b[0;34m\u001b[0m\u001b[0m\n\u001b[1;32m     38\u001b[0m \u001b[0;31m# Make predictions on the training and test data\u001b[0m\u001b[0;34m\u001b[0m\u001b[0;34m\u001b[0m\u001b[0m\n",
            "\u001b[0;32m<ipython-input-55-8211dab7b173>\u001b[0m in \u001b[0;36mfit\u001b[0;34m(self, X, y, epochs)\u001b[0m\n\u001b[1;32m     14\u001b[0m             \u001b[0;32mfor\u001b[0m \u001b[0mi\u001b[0m \u001b[0;32min\u001b[0m \u001b[0mrange\u001b[0m\u001b[0;34m(\u001b[0m\u001b[0mX\u001b[0m\u001b[0;34m.\u001b[0m\u001b[0mshape\u001b[0m\u001b[0;34m[\u001b[0m\u001b[0;36m0\u001b[0m\u001b[0;34m]\u001b[0m\u001b[0;34m)\u001b[0m\u001b[0;34m:\u001b[0m\u001b[0;34m\u001b[0m\u001b[0;34m\u001b[0m\u001b[0m\n\u001b[1;32m     15\u001b[0m                 \u001b[0;31m# Calculate the predicted output\u001b[0m\u001b[0;34m\u001b[0m\u001b[0;34m\u001b[0m\u001b[0m\n\u001b[0;32m---> 16\u001b[0;31m                 \u001b[0my_pred\u001b[0m \u001b[0;34m=\u001b[0m \u001b[0mself\u001b[0m\u001b[0;34m.\u001b[0m\u001b[0mpredict\u001b[0m\u001b[0;34m(\u001b[0m\u001b[0mX\u001b[0m\u001b[0;34m[\u001b[0m\u001b[0mi\u001b[0m\u001b[0;34m]\u001b[0m\u001b[0;34m)\u001b[0m\u001b[0;34m\u001b[0m\u001b[0;34m\u001b[0m\u001b[0m\n\u001b[0m\u001b[1;32m     17\u001b[0m \u001b[0;34m\u001b[0m\u001b[0m\n\u001b[1;32m     18\u001b[0m                 \u001b[0;31m# Update the weights and bias\u001b[0m\u001b[0;34m\u001b[0m\u001b[0;34m\u001b[0m\u001b[0m\n",
            "\u001b[0;32m/usr/local/lib/python3.9/dist-packages/pandas/core/frame.py\u001b[0m in \u001b[0;36m__getitem__\u001b[0;34m(self, key)\u001b[0m\n\u001b[1;32m   3503\u001b[0m             \u001b[0;32mif\u001b[0m \u001b[0mself\u001b[0m\u001b[0;34m.\u001b[0m\u001b[0mcolumns\u001b[0m\u001b[0;34m.\u001b[0m\u001b[0mnlevels\u001b[0m \u001b[0;34m>\u001b[0m \u001b[0;36m1\u001b[0m\u001b[0;34m:\u001b[0m\u001b[0;34m\u001b[0m\u001b[0;34m\u001b[0m\u001b[0m\n\u001b[1;32m   3504\u001b[0m                 \u001b[0;32mreturn\u001b[0m \u001b[0mself\u001b[0m\u001b[0;34m.\u001b[0m\u001b[0m_getitem_multilevel\u001b[0m\u001b[0;34m(\u001b[0m\u001b[0mkey\u001b[0m\u001b[0;34m)\u001b[0m\u001b[0;34m\u001b[0m\u001b[0;34m\u001b[0m\u001b[0m\n\u001b[0;32m-> 3505\u001b[0;31m             \u001b[0mindexer\u001b[0m \u001b[0;34m=\u001b[0m \u001b[0mself\u001b[0m\u001b[0;34m.\u001b[0m\u001b[0mcolumns\u001b[0m\u001b[0;34m.\u001b[0m\u001b[0mget_loc\u001b[0m\u001b[0;34m(\u001b[0m\u001b[0mkey\u001b[0m\u001b[0;34m)\u001b[0m\u001b[0;34m\u001b[0m\u001b[0;34m\u001b[0m\u001b[0m\n\u001b[0m\u001b[1;32m   3506\u001b[0m             \u001b[0;32mif\u001b[0m \u001b[0mis_integer\u001b[0m\u001b[0;34m(\u001b[0m\u001b[0mindexer\u001b[0m\u001b[0;34m)\u001b[0m\u001b[0;34m:\u001b[0m\u001b[0;34m\u001b[0m\u001b[0;34m\u001b[0m\u001b[0m\n\u001b[1;32m   3507\u001b[0m                 \u001b[0mindexer\u001b[0m \u001b[0;34m=\u001b[0m \u001b[0;34m[\u001b[0m\u001b[0mindexer\u001b[0m\u001b[0;34m]\u001b[0m\u001b[0;34m\u001b[0m\u001b[0;34m\u001b[0m\u001b[0m\n",
            "\u001b[0;32m/usr/local/lib/python3.9/dist-packages/pandas/core/indexes/base.py\u001b[0m in \u001b[0;36mget_loc\u001b[0;34m(self, key, method, tolerance)\u001b[0m\n\u001b[1;32m   3629\u001b[0m                 \u001b[0;32mreturn\u001b[0m \u001b[0mself\u001b[0m\u001b[0;34m.\u001b[0m\u001b[0m_engine\u001b[0m\u001b[0;34m.\u001b[0m\u001b[0mget_loc\u001b[0m\u001b[0;34m(\u001b[0m\u001b[0mcasted_key\u001b[0m\u001b[0;34m)\u001b[0m\u001b[0;34m\u001b[0m\u001b[0;34m\u001b[0m\u001b[0m\n\u001b[1;32m   3630\u001b[0m             \u001b[0;32mexcept\u001b[0m \u001b[0mKeyError\u001b[0m \u001b[0;32mas\u001b[0m \u001b[0merr\u001b[0m\u001b[0;34m:\u001b[0m\u001b[0;34m\u001b[0m\u001b[0;34m\u001b[0m\u001b[0m\n\u001b[0;32m-> 3631\u001b[0;31m                 \u001b[0;32mraise\u001b[0m \u001b[0mKeyError\u001b[0m\u001b[0;34m(\u001b[0m\u001b[0mkey\u001b[0m\u001b[0;34m)\u001b[0m \u001b[0;32mfrom\u001b[0m \u001b[0merr\u001b[0m\u001b[0;34m\u001b[0m\u001b[0;34m\u001b[0m\u001b[0m\n\u001b[0m\u001b[1;32m   3632\u001b[0m             \u001b[0;32mexcept\u001b[0m \u001b[0mTypeError\u001b[0m\u001b[0;34m:\u001b[0m\u001b[0;34m\u001b[0m\u001b[0;34m\u001b[0m\u001b[0m\n\u001b[1;32m   3633\u001b[0m                 \u001b[0;31m# If we have a listlike key, _check_indexing_error will raise\u001b[0m\u001b[0;34m\u001b[0m\u001b[0;34m\u001b[0m\u001b[0m\n",
            "\u001b[0;31mKeyError\u001b[0m: 0"
          ]
        }
      ]
    },
    {
      "cell_type": "code",
      "source": [
        "#building a simple ann model for classification\n",
        "import keras\n",
        "from keras.models import Sequential\n",
        "from keras.layers import Dense, Normalization,BatchNormalization\n",
        "from keras import regularizers\n",
        "from keras.utils.metrics_utils import ConfusionMatrix\n",
        "from sklearn.metrics import precision_score, recall_score,f1_score\n",
        "from sklearn.metrics import accuracy_score,recall_score,confusion_matrix"
      ],
      "metadata": {
        "execution": {
          "iopub.status.busy": "2023-02-26T04:31:06.708941Z",
          "iopub.execute_input": "2023-02-26T04:31:06.709408Z",
          "iopub.status.idle": "2023-02-26T04:31:06.715221Z",
          "shell.execute_reply.started": "2023-02-26T04:31:06.709372Z",
          "shell.execute_reply": "2023-02-26T04:31:06.713974Z"
        },
        "trusted": true,
        "id": "trllNvcpL0U1"
      },
      "execution_count": null,
      "outputs": []
    },
    {
      "cell_type": "code",
      "source": [
        "#simple ann neural network\n",
        "thresholds=[0.1,0.2,0.3,0.4,0.5,0.6,0.7,0.8,0.9]\n",
        "for i in thresholds:\n",
        " perceptron1 = Sequential()\n",
        " perceptron1.add(Dense(1,activation='sigmoid'))\n",
        " perceptron1.compile(optimizer='rmsprop',loss=keras.losses.BinaryCrossentropy())#Adam\n",
        " perceptron1.fit(X_train,y_train,epochs=5)\n",
        " trainpreds= perceptron1.predict(X_train)>i\n",
        " testpreds= perceptron1.predict(X_test)>i\n",
        " print(i,\"train-\",accuracy_score(y_train,trainpreds),\"test-\",accuracy_score(y_test,testpreds))\n",
        " \n",
        " "
      ],
      "metadata": {
        "execution": {
          "iopub.status.busy": "2023-02-26T04:55:42.192776Z",
          "iopub.execute_input": "2023-02-26T04:55:42.193382Z",
          "iopub.status.idle": "2023-02-26T05:04:55.316668Z",
          "shell.execute_reply.started": "2023-02-26T04:55:42.193324Z",
          "shell.execute_reply": "2023-02-26T05:04:55.315318Z"
        },
        "trusted": true,
        "id": "KyRU0T1NL0U1"
      },
      "execution_count": null,
      "outputs": []
    },
    {
      "cell_type": "markdown",
      "source": [
        "**from this we can clearly see threshold of 0.4 is having good results so we will use it for confusion matrix analysis**"
      ],
      "metadata": {
        "id": "6KmmT9qAL0U1"
      }
    },
    {
      "cell_type": "code",
      "source": [
        "perceptron1 = Sequential()\n",
        "perceptron1.add(Dense(1,activation='sigmoid'))\n",
        "perceptron1.compile(optimizer='rmsprop',loss=keras.losses.BinaryCrossentropy())#Adam\n",
        "perceptron1.fit(X_train,y_train,epochs=5)\n",
        "trainpreds= perceptron1.predict(X_train)>0.4\n",
        "testpreds= perceptron1.predict(X_test)>0.4\n",
        "print(i,\"train-\",accuracy_score(y_train,trainpreds),\"test-\",accuracy_score(y_test,testpreds))\n",
        "print(confusion_matrix(y_train,trainpreds))\n",
        "print(confusion_matrix(y_test,testpreds))"
      ],
      "metadata": {
        "execution": {
          "iopub.status.busy": "2023-02-26T05:08:04.765921Z",
          "iopub.execute_input": "2023-02-26T05:08:04.766360Z",
          "iopub.status.idle": "2023-02-26T05:09:42.417093Z",
          "shell.execute_reply.started": "2023-02-26T05:08:04.766328Z",
          "shell.execute_reply": "2023-02-26T05:09:42.415613Z"
        },
        "trusted": true,
        "id": "CSvJUsXAL0U1"
      },
      "execution_count": null,
      "outputs": []
    },
    {
      "cell_type": "code",
      "source": [
        "from sklearn.metrics import precision_score, recall_score,f1_score\n",
        "precision_score=precision_score(y_train,trainpreds)\n",
        "recall_score=recall_score(y_train,trainpreds)\n",
        "f1_score=f1_score(y_train,trainpreds)\n",
        "print(\"scores for train\",precision_score, recall_score,f1_score)\n"
      ],
      "metadata": {
        "execution": {
          "iopub.status.busy": "2023-02-26T05:16:35.417614Z",
          "iopub.execute_input": "2023-02-26T05:16:35.418045Z",
          "iopub.status.idle": "2023-02-26T05:16:35.635635Z",
          "shell.execute_reply.started": "2023-02-26T05:16:35.418015Z",
          "shell.execute_reply": "2023-02-26T05:16:35.634293Z"
        },
        "trusted": true,
        "id": "C8ScWy5RL0U1"
      },
      "execution_count": null,
      "outputs": []
    },
    {
      "cell_type": "code",
      "source": [],
      "metadata": {
        "id": "8SdbEkg1L0U1"
      },
      "execution_count": null,
      "outputs": []
    },
    {
      "cell_type": "markdown",
      "source": [
        "***there are large ammount of false positives and false negatives in the prediction given by the model so we should go for another model with different parameters. ***"
      ],
      "metadata": {
        "id": "QH6VUEilL0U1"
      }
    },
    {
      "cell_type": "code",
      "source": [
        "#model 2 to reduce fp and fn\n",
        "from keras.layers import Dropout,BatchNormalization,Normalization\n",
        "model2 = Sequential()\n",
        "model2.add(Dense(8,activation='relu')) #0 -- max\n",
        "model2.add(Dense(16, activation='relu'))\n",
        "model2.add(Dense(1, activation='sigmoid'))# binary ; multiclass softmax\n",
        "model2.compile(optimizer='Adam',loss=keras.losses.BinaryCrossentropy())\n",
        "model2.fit(X_train,y_train,epochs=20)"
      ],
      "metadata": {
        "execution": {
          "iopub.status.busy": "2023-02-26T04:32:46.915086Z",
          "iopub.execute_input": "2023-02-26T04:32:46.916070Z",
          "iopub.status.idle": "2023-02-26T04:36:31.613206Z",
          "shell.execute_reply.started": "2023-02-26T04:32:46.916030Z",
          "shell.execute_reply": "2023-02-26T04:36:31.612174Z"
        },
        "trusted": true,
        "id": "C-wHH_cUL0U1"
      },
      "execution_count": null,
      "outputs": []
    },
    {
      "cell_type": "code",
      "source": [
        "trainpreds= model2.predict(X_train)>0.3\n",
        "print(trainpreds[0:10])\n",
        "testpreds= model2.predict(X_test)>0.3\n",
        "print(testpreds[0:10])"
      ],
      "metadata": {
        "execution": {
          "iopub.status.busy": "2023-02-26T04:36:31.615927Z",
          "iopub.execute_input": "2023-02-26T04:36:31.616450Z",
          "iopub.status.idle": "2023-02-26T04:36:46.078833Z",
          "shell.execute_reply.started": "2023-02-26T04:36:31.616385Z",
          "shell.execute_reply": "2023-02-26T04:36:46.077402Z"
        },
        "trusted": true,
        "id": "LUIGceLyL0U1"
      },
      "execution_count": null,
      "outputs": []
    },
    {
      "cell_type": "code",
      "source": [
        "from keras.utils.metrics_utils import ConfusionMatrix\n",
        "from sklearn.metrics import accuracy_score,recall_score,confusion_matrix\n",
        "print(\"a.s for train\",accuracy_score(y_train,trainpreds))\n",
        "print(\"a.s for test\",accuracy_score(y_test,testpreds))\n",
        "\n",
        "print(\"confusion_matrix for train\",confusion_matrix(y_train,trainpreds))\n",
        "print(\"confusion_matrix for test\",confusion_matrix(y_test,testpreds))"
      ],
      "metadata": {
        "execution": {
          "iopub.status.busy": "2023-02-26T04:38:56.626145Z",
          "iopub.execute_input": "2023-02-26T04:38:56.626592Z",
          "iopub.status.idle": "2023-02-26T04:38:56.712481Z",
          "shell.execute_reply.started": "2023-02-26T04:38:56.626557Z",
          "shell.execute_reply": "2023-02-26T04:38:56.710243Z"
        },
        "trusted": true,
        "id": "3xAj94OSL0U1"
      },
      "execution_count": null,
      "outputs": []
    },
    {
      "cell_type": "markdown",
      "source": [
        "without keras module"
      ],
      "metadata": {
        "id": "CYV4iGzBb5BT"
      }
    },
    {
      "cell_type": "code",
      "source": [
        "# Convert y_train to a Numpy array and flatten it\n",
        "y_train_flat = y_train.values.reshape(-1, 1)\n",
        "# Define activation functions\n",
        "def relu(x):\n",
        "    return np.maximum(0, x)\n",
        "\n",
        "def relu_gradient(x):\n",
        "    return np.where(x > 0, 1, 0)\n",
        "\n",
        "\n",
        "def sigmoid(x):\n",
        "    return 1 / (1 + np.exp(-x))\n",
        "\n",
        "# Define loss function\n",
        "def binary_cross_entropy(y_true, y_pred):\n",
        "    epsilon = 1e-15\n",
        "    y_pred = np.clip(y_pred, epsilon, 1 - epsilon)\n",
        "    y_true = y_true.ravel()\n",
        "    return -(y_true * np.log(y_pred) + (1 - y_true) * np.log(1 - y_pred)).mean()\n",
        "input_size = X_train.shape[1]\n",
        "hidden_size = 32\n",
        "output_size = 1    \n",
        "# Initialize the weight matrix with random values\n",
        "W1 = np.random.randn(input_size, hidden_size)\n",
        "b1 = np.zeros((1, hidden_size))\n",
        "\n",
        "W2 = np.random.randn(hidden_size, output_size)\n",
        "b2 = np.zeros((1, output_size))\n",
        "\n",
        "\n",
        "# Train Model 2\n",
        "learning_rate = 0.01\n",
        "num_epochs = 20\n",
        "batch_size = 32\n",
        "\n",
        "num_batches = len(X_train) // batch_size\n",
        "\n",
        "for epoch in range(num_epochs):\n",
        "    epoch_loss = 0.0\n",
        "    for batch in range(num_batches):\n",
        "        # Forward pass\n",
        "        start = batch * batch_size\n",
        "        end = (batch + 1) * batch_size\n",
        "        X_batch = X_train[start:end]\n",
        "        y_batch = y_train_flat[start:end]\n",
        "\n",
        "        Z1 = np.dot(X_batch, W1) + b1\n",
        "        A1 = relu(Z1)\n",
        "\n",
        "        Z2 = np.dot(A1, W2) + b2\n",
        "        A2 = sigmoid(Z2)\n",
        "\n",
        "        # Backward pass\n",
        "        dZ2 = A2 - y_batch\n",
        "        dW2 = np.dot(A1.T, dZ2) / batch_size\n",
        "        db2 = np.sum(dZ2, axis=0, keepdims=True) / batch_size\n",
        "\n",
        "        dA1 = np.dot(dZ2, W2.T)\n",
        "        dZ1 = dA1 * relu_gradient(Z1)\n",
        "        dW1 = np.dot(X_batch.T, dZ1) / batch_size\n",
        "        db1 = np.sum(dZ1, axis=0, keepdims=True) / batch_size\n",
        "\n",
        "        # Update parameters\n",
        "        W2 -= learning_rate * dW2\n",
        "        b2 -= learning_rate * db2\n",
        "        W1 -= learning_rate * dW1\n",
        "        b1 -= learning_rate * db1\n",
        "\n",
        "        batch_loss = binary_cross_entropy(y_batch, A2)\n",
        "        epoch_loss += batch_loss\n",
        "\n",
        "    # Compute validation loss\n",
        "    val_Z1 = np.dot(X_test, W1) + b1\n",
        "    val_A1 = relu(val_Z1)\n",
        "\n",
        "    val_Z2 = np.dot(val_A1, W2) + b2\n",
        "    val_A2 = sigmoid(val_Z2)\n",
        "\n",
        "    val_loss = binary_cross_entropy(y_test, val_A2)\n",
        "\n",
        "    # Print progress\n",
        "    print(\"Epoch {}/{} - Loss: {:.4f} - Val Loss: {:.4f}\".format(epoch + 1, num_epochs, epoch_loss / num_batches, val_loss))\n"
      ],
      "metadata": {
        "id": "Q8C91DS9lyOx"
      },
      "execution_count": null,
      "outputs": []
    },
    {
      "cell_type": "code",
      "source": [
        "import numpy as np\n",
        "from itertools import product\n",
        "\n",
        "# Split the data into training and validation sets\n",
        "split_idx = int(0.8 * len(X))\n",
        "X_train, y_train = X[:split_idx], y[:split_idx]\n",
        "X_val, y_val = X[split_idx:], y[split_idx:]\n",
        "\n",
        "# Define a function to create and train the model\n",
        "def create_model(hidden_layer_sizes, learning_rate_init):\n",
        "    model = MLPClassifier(hidden_layer_sizes=hidden_layer_sizes, learning_rate_init=learning_rate_init)\n",
        "    model.fit(X_train, y_train)\n",
        "    return model\n",
        "\n",
        "# Define a range of hyperparameters to explore\n",
        "hidden_layer_sizes_list = [(10,), (50,), (100,)]\n",
        "learning_rate_init_list = [0.001, 0.01, 0.1]\n",
        "\n",
        "# Perform the grid search\n",
        "best_score = 0\n",
        "for hidden_layer_sizes, learning_rate_init in product(hidden_layer_sizes_list, learning_rate_init_list):\n",
        "    model = create_model(hidden_layer_sizes, learning_rate_init)\n",
        "    y_pred = model.predict(X_val)\n",
        "    score = accuracy_score(y_val, y_pred)\n",
        "    if score > best_score:\n",
        "        best_score = score\n",
        "        best_params = {'hidden_layer_sizes': hidden_layer_sizes, 'learning_rate_init': learning_rate_init}\n",
        "\n",
        "# Print the best hyperparameters and accuracy score\n",
        "print(\"Best hyperparameters: \", best_params)\n",
        "print(\"Best accuracy score: \", best_score)\n",
        "\n",
        "# Train the final model using the selected hyperparameters\n",
        "best_model = create_model(best_params['hidden_layer_sizes'], best_params['learning_rate_init'])\n",
        "\n",
        "# Evaluate the performance of the final model on a separate test set\n",
        "X_test, y_test = digits.data[-100:], digits.target[-100:]\n",
        "y_pred = best_model.predict(X_test)\n",
        "accuracy = accuracy_score(y_test, y_pred)\n",
        "print(\"Test accuracy score: \", accuracy)\n"
      ],
      "metadata": {
        "id": "fUXG-HTqezZR"
      },
      "execution_count": null,
      "outputs": []
    },
    {
      "cell_type": "markdown",
      "source": [
        "Now lets try with different models\n",
        "1)decision tree classifier\n",
        "2)random forest classifer\n",
        "3)knn classifer\n",
        "4)logistic regression"
      ],
      "metadata": {
        "id": "_6tJqlG2L0U2"
      }
    },
    {
      "cell_type": "code",
      "source": [
        "#model-logiticregression\n",
        "from sklearn.linear_model import LogisticRegression\n",
        "lr = LogisticRegression()\n",
        "\n",
        "# Train the classifier on the training data\n",
        "lr.fit(X_train, y_train)\n",
        "# Make predictions on the training data\n",
        "train_preds = lr.predict(X_train)\n",
        "\n",
        "# Make predictions on the testing data\n",
        "test_preds = lr.predict(X_test)\n",
        "\n",
        "# Evaluate the performance of the classifier using accuracy, precision, recall, and f1-score\n",
        "print(\"trainaccuracy\",accuracy_score(y_train,train_preds))\n",
        "print(\"confusionaccuracy\",confusion_matrix(y_train,train_preds))\n",
        "print(\"testaccuracy\",accuracy_score(y_test,test_preds))\n",
        "print(\"confusionaccuracy\",confusion_matrix(y_test,test_preds))"
      ],
      "metadata": {
        "execution": {
          "iopub.status.busy": "2023-02-26T05:39:26.848774Z",
          "iopub.execute_input": "2023-02-26T05:39:26.849281Z",
          "iopub.status.idle": "2023-02-26T05:39:30.918898Z",
          "shell.execute_reply.started": "2023-02-26T05:39:26.849244Z",
          "shell.execute_reply": "2023-02-26T05:39:30.917666Z"
        },
        "trusted": true,
        "id": "OSDajeTEL0U2"
      },
      "execution_count": null,
      "outputs": []
    },
    {
      "cell_type": "code",
      "source": [
        "#model2-decisiontreeclassifier\n",
        "from sklearn.tree import DecisionTreeClassifier\n",
        "lr = DecisionTreeClassifier(max_depth=3)\n",
        "\n",
        "# Train the classifier on the training data\n",
        "lr.fit(X_train, y_train)\n",
        "# Make predictions on the training data\n",
        "train_preds = lr.predict(X_train)\n",
        "\n",
        "# Make predictions on the testing data\n",
        "test_preds = lr.predict(X_test)\n",
        "\n",
        "# Evaluate the performance of the classifier using accuracy, precision, recall, and f1-score\n",
        "print(\"trainaccuracy\",accuracy_score(y_train,train_preds))\n",
        "print(\"confusionaccuracy\",confusion_matrix(y_train,train_preds))\n",
        "print(\"testaccuracy\",accuracy_score(y_test,test_preds))\n",
        "print(\"confusionaccuracy\",confusion_matrix(y_test,test_preds))"
      ],
      "metadata": {
        "execution": {
          "iopub.status.busy": "2023-02-26T05:43:06.141481Z",
          "iopub.execute_input": "2023-02-26T05:43:06.141951Z",
          "iopub.status.idle": "2023-02-26T05:43:06.575299Z",
          "shell.execute_reply.started": "2023-02-26T05:43:06.141916Z",
          "shell.execute_reply": "2023-02-26T05:43:06.573617Z"
        },
        "trusted": true,
        "id": "N3YYTT4aL0U2"
      },
      "execution_count": null,
      "outputs": []
    },
    {
      "cell_type": "code",
      "source": [
        "#Randomforestclassifier\n",
        "from sklearn.ensemble import RandomForestClassifier\n",
        "lr = RandomForestClassifier(n_estimators=100)\n",
        "\n",
        "# Train the classifier on the training data\n",
        "lr.fit(X_train, y_train)\n",
        "# Make predictions on the training data\n",
        "train_preds = lr.predict(X_train)\n",
        "\n",
        "# Make predictions on the testing data\n",
        "test_preds = lr.predict(X_test)\n",
        "\n",
        "# Evaluate the performance of the classifier using accuracy, precision, recall, and f1-score\n",
        "print(\"trainaccuracy\",accuracy_score(y_train,train_preds))\n",
        "print(\"confusionaccuracy\",confusion_matrix(y_train,train_preds))\n",
        "print(\"testaccuracy\",accuracy_score(y_test,test_preds))\n",
        "print(\"confusionaccuracy\",confusion_matrix(y_test,test_preds))"
      ],
      "metadata": {
        "execution": {
          "iopub.status.busy": "2023-02-26T05:59:53.801201Z",
          "iopub.execute_input": "2023-02-26T05:59:53.801644Z",
          "iopub.status.idle": "2023-02-26T06:00:10.294002Z",
          "shell.execute_reply.started": "2023-02-26T05:59:53.801609Z",
          "shell.execute_reply": "2023-02-26T06:00:10.292891Z"
        },
        "trusted": true,
        "id": "Mz5UEGOjL0U2"
      },
      "execution_count": null,
      "outputs": []
    },
    {
      "cell_type": "code",
      "source": [],
      "metadata": {
        "id": "BhEucRfwbmNE"
      },
      "execution_count": null,
      "outputs": []
    }
  ]
}